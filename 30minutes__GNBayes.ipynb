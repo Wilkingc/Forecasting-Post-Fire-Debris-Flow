{
  "cells": [
    {
      "cell_type": "markdown",
      "metadata": {
        "id": "view-in-github",
        "colab_type": "text"
      },
      "source": [
        "<a href=\"https://colab.research.google.com/github/Wilkingc/Forecasting-Post-Fire-Debris-Flow/blob/main/30minutes__GNBayes.ipynb\" target=\"_parent\"><img src=\"https://colab.research.google.com/assets/colab-badge.svg\" alt=\"Open In Colab\"/></a>"
      ]
    },
    {
      "cell_type": "markdown",
      "source": [
        "# GNBayes"
      ],
      "metadata": {
        "id": "yj6ylS2jvGbv"
      }
    },
    {
      "cell_type": "markdown",
      "source": [
        "## Imports\n"
      ],
      "metadata": {
        "id": "hFUQYdN6vEYg"
      }
    },
    {
      "cell_type": "code",
      "execution_count": null,
      "metadata": {
        "id": "-PW2HdnZsGTt"
      },
      "outputs": [],
      "source": [
        "import pandas as pd\n",
        "import numpy as np\n",
        "import matplotlib.pyplot as plt\n",
        "import seaborn as sns\n",
        "from sklearn.preprocessing import StandardScaler\n",
        "import sklearn.model_selection as model_selection\n",
        "from sklearn import metrics\n",
        "from sklearn.naive_bayes import GaussianNB\n",
        "from sklearn.model_selection import train_test_split\n",
        "from sklearn.metrics import confusion_matrix, ConfusionMatrixDisplay, roc_curve, auc\n"
      ]
    },
    {
      "cell_type": "code",
      "source": [],
      "metadata": {
        "id": "Px0EtAsRuWrc"
      },
      "execution_count": null,
      "outputs": []
    },
    {
      "cell_type": "code",
      "source": [
        "from google.colab import drive\n",
        "drive.mount('/content/drive')"
      ],
      "metadata": {
        "colab": {
          "base_uri": "https://localhost:8080/"
        },
        "id": "tyxVV03ruZWM",
        "outputId": "cc677df8-5b66-4a17-c32e-5ef061b7647c"
      },
      "execution_count": null,
      "outputs": [
        {
          "output_type": "stream",
          "name": "stdout",
          "text": [
            "Mounted at /content/drive\n"
          ]
        }
      ]
    },
    {
      "cell_type": "code",
      "execution_count": null,
      "metadata": {
        "id": "shMA1Phltg34"
      },
      "outputs": [],
      "source": [
        "url =  ('/content/drive/MyDrive/Flood Capstone/USGS_Logistic_Regression_DS.xlsx')\n",
        "data = pd.read_excel(url, sheet_name = 1)"
      ]
    },
    {
      "cell_type": "markdown",
      "source": [
        "## Read in the data\n",
        "\n"
      ],
      "metadata": {
        "id": "41tcb6Lgvicz"
      }
    },
    {
      "cell_type": "markdown",
      "source": [
        "Notice that the data set does not have column names.  So, we will create our own and include them when we create the data frame.\n"
      ],
      "metadata": {
        "id": "NWqll7yXvmPP"
      }
    },
    {
      "cell_type": "code",
      "source": [
        "clime = data.copy()"
      ],
      "metadata": {
        "id": "TohPamWVsHcB"
      },
      "execution_count": null,
      "outputs": []
    },
    {
      "cell_type": "code",
      "source": [
        "pd.set_option('display.max_columns', None)"
      ],
      "metadata": {
        "id": "o-jUTtE8hroS"
      },
      "execution_count": null,
      "outputs": []
    },
    {
      "cell_type": "code",
      "execution_count": null,
      "metadata": {
        "id": "Sk6ZJ0Uc1G0M",
        "colab": {
          "base_uri": "https://localhost:8080/",
          "height": 417
        },
        "outputId": "1e4cc26e-b7e7-4e5a-c609-a57cb949874c"
      },
      "outputs": [
        {
          "output_type": "execute_result",
          "data": {
            "text/plain": [
              "  Fire Name  Year Fire_ID Fire_SegID  Database State  UTM_Zone        UTM_X  \\\n",
              "0  Buckweed  2007     bck   bck_1035  Training    CA        11  368133.5165   \n",
              "1  Buckweed  2007     bck   bck_1090  Training    CA        11  367871.0165   \n",
              "2  Buckweed  2007     bck   bck_1570  Training    CA        11  367503.5165   \n",
              "3  Buckweed  2007     bck    bck_235  Training    CA        11  371108.5165   \n",
              "4  Buckweed  2007     bck    bck_363  Training    CA        11  370763.5165   \n",
              "\n",
              "         UTM_Y  Response            StormDate  GaugeDist_m  \\\n",
              "0  3823231.989         0  2008-01-22 00:00:00      1998.67   \n",
              "1  3822984.489         0  2008-01-22 00:00:00      2368.93   \n",
              "2  3821741.989         0  2008-01-22 00:00:00      3956.74   \n",
              "3  3824991.989         0  2008-01-22 00:00:00      1734.72   \n",
              "4  3824576.989         0  2008-01-22 00:00:00      1801.04   \n",
              "\n",
              "           StormStart            StormEnd  StormDur_H  StormAccum_mm  \\\n",
              "0 2008-01-21 16:27:00 2008-01-22 19:20:00      26.883            5.4   \n",
              "1 2008-01-21 16:27:00 2008-01-22 19:20:00      26.883            5.4   \n",
              "2 2008-01-21 16:27:00 2008-01-22 19:20:00      26.883            5.4   \n",
              "3 2008-01-21 15:47:00 2008-01-22 19:39:00      27.883            3.0   \n",
              "4 2008-01-21 15:47:00 2008-01-22 19:39:00      27.883            3.0   \n",
              "\n",
              "   StormAvgI_mm/h  Peak_I15_mm/h  Peak_I30_mm/h  Peak_I60_mm/h  \\\n",
              "0            0.20            3.2            2.0            2.0   \n",
              "1            0.20            3.2            2.0            2.0   \n",
              "2            0.20            3.2            2.0            2.0   \n",
              "3            0.11            1.6            1.2            0.8   \n",
              "4            0.11            1.6            1.2            0.8   \n",
              "\n",
              "   ContributingArea_km2  PropHM23  dNBR/1000        KF  Acc015_mm  Acc030_mm  \\\n",
              "0              0.378767  0.217933   0.297853  0.250000        0.8        1.0   \n",
              "1              0.689615  0.061249   0.224896  0.250000        0.8        1.0   \n",
              "2              2.757312  0.042968   0.065537  0.248541        0.8        1.0   \n",
              "3              0.613415  0.092164   0.141711  0.250000        0.4        0.6   \n",
              "4              0.538875  0.058353   0.210158  0.250000        0.4        0.6   \n",
              "\n",
              "   Acc060_mm  \n",
              "0        2.0  \n",
              "1        2.0  \n",
              "2        2.0  \n",
              "3        0.8  \n",
              "4        0.8  "
            ],
            "text/html": [
              "\n",
              "  <div id=\"df-bbaf92bc-3972-4b6e-b092-47b24b44b2c5\" class=\"colab-df-container\">\n",
              "    <div>\n",
              "<style scoped>\n",
              "    .dataframe tbody tr th:only-of-type {\n",
              "        vertical-align: middle;\n",
              "    }\n",
              "\n",
              "    .dataframe tbody tr th {\n",
              "        vertical-align: top;\n",
              "    }\n",
              "\n",
              "    .dataframe thead th {\n",
              "        text-align: right;\n",
              "    }\n",
              "</style>\n",
              "<table border=\"1\" class=\"dataframe\">\n",
              "  <thead>\n",
              "    <tr style=\"text-align: right;\">\n",
              "      <th></th>\n",
              "      <th>Fire Name</th>\n",
              "      <th>Year</th>\n",
              "      <th>Fire_ID</th>\n",
              "      <th>Fire_SegID</th>\n",
              "      <th>Database</th>\n",
              "      <th>State</th>\n",
              "      <th>UTM_Zone</th>\n",
              "      <th>UTM_X</th>\n",
              "      <th>UTM_Y</th>\n",
              "      <th>Response</th>\n",
              "      <th>StormDate</th>\n",
              "      <th>GaugeDist_m</th>\n",
              "      <th>StormStart</th>\n",
              "      <th>StormEnd</th>\n",
              "      <th>StormDur_H</th>\n",
              "      <th>StormAccum_mm</th>\n",
              "      <th>StormAvgI_mm/h</th>\n",
              "      <th>Peak_I15_mm/h</th>\n",
              "      <th>Peak_I30_mm/h</th>\n",
              "      <th>Peak_I60_mm/h</th>\n",
              "      <th>ContributingArea_km2</th>\n",
              "      <th>PropHM23</th>\n",
              "      <th>dNBR/1000</th>\n",
              "      <th>KF</th>\n",
              "      <th>Acc015_mm</th>\n",
              "      <th>Acc030_mm</th>\n",
              "      <th>Acc060_mm</th>\n",
              "    </tr>\n",
              "  </thead>\n",
              "  <tbody>\n",
              "    <tr>\n",
              "      <th>0</th>\n",
              "      <td>Buckweed</td>\n",
              "      <td>2007</td>\n",
              "      <td>bck</td>\n",
              "      <td>bck_1035</td>\n",
              "      <td>Training</td>\n",
              "      <td>CA</td>\n",
              "      <td>11</td>\n",
              "      <td>368133.5165</td>\n",
              "      <td>3823231.989</td>\n",
              "      <td>0</td>\n",
              "      <td>2008-01-22 00:00:00</td>\n",
              "      <td>1998.67</td>\n",
              "      <td>2008-01-21 16:27:00</td>\n",
              "      <td>2008-01-22 19:20:00</td>\n",
              "      <td>26.883</td>\n",
              "      <td>5.4</td>\n",
              "      <td>0.20</td>\n",
              "      <td>3.2</td>\n",
              "      <td>2.0</td>\n",
              "      <td>2.0</td>\n",
              "      <td>0.378767</td>\n",
              "      <td>0.217933</td>\n",
              "      <td>0.297853</td>\n",
              "      <td>0.250000</td>\n",
              "      <td>0.8</td>\n",
              "      <td>1.0</td>\n",
              "      <td>2.0</td>\n",
              "    </tr>\n",
              "    <tr>\n",
              "      <th>1</th>\n",
              "      <td>Buckweed</td>\n",
              "      <td>2007</td>\n",
              "      <td>bck</td>\n",
              "      <td>bck_1090</td>\n",
              "      <td>Training</td>\n",
              "      <td>CA</td>\n",
              "      <td>11</td>\n",
              "      <td>367871.0165</td>\n",
              "      <td>3822984.489</td>\n",
              "      <td>0</td>\n",
              "      <td>2008-01-22 00:00:00</td>\n",
              "      <td>2368.93</td>\n",
              "      <td>2008-01-21 16:27:00</td>\n",
              "      <td>2008-01-22 19:20:00</td>\n",
              "      <td>26.883</td>\n",
              "      <td>5.4</td>\n",
              "      <td>0.20</td>\n",
              "      <td>3.2</td>\n",
              "      <td>2.0</td>\n",
              "      <td>2.0</td>\n",
              "      <td>0.689615</td>\n",
              "      <td>0.061249</td>\n",
              "      <td>0.224896</td>\n",
              "      <td>0.250000</td>\n",
              "      <td>0.8</td>\n",
              "      <td>1.0</td>\n",
              "      <td>2.0</td>\n",
              "    </tr>\n",
              "    <tr>\n",
              "      <th>2</th>\n",
              "      <td>Buckweed</td>\n",
              "      <td>2007</td>\n",
              "      <td>bck</td>\n",
              "      <td>bck_1570</td>\n",
              "      <td>Training</td>\n",
              "      <td>CA</td>\n",
              "      <td>11</td>\n",
              "      <td>367503.5165</td>\n",
              "      <td>3821741.989</td>\n",
              "      <td>0</td>\n",
              "      <td>2008-01-22 00:00:00</td>\n",
              "      <td>3956.74</td>\n",
              "      <td>2008-01-21 16:27:00</td>\n",
              "      <td>2008-01-22 19:20:00</td>\n",
              "      <td>26.883</td>\n",
              "      <td>5.4</td>\n",
              "      <td>0.20</td>\n",
              "      <td>3.2</td>\n",
              "      <td>2.0</td>\n",
              "      <td>2.0</td>\n",
              "      <td>2.757312</td>\n",
              "      <td>0.042968</td>\n",
              "      <td>0.065537</td>\n",
              "      <td>0.248541</td>\n",
              "      <td>0.8</td>\n",
              "      <td>1.0</td>\n",
              "      <td>2.0</td>\n",
              "    </tr>\n",
              "    <tr>\n",
              "      <th>3</th>\n",
              "      <td>Buckweed</td>\n",
              "      <td>2007</td>\n",
              "      <td>bck</td>\n",
              "      <td>bck_235</td>\n",
              "      <td>Training</td>\n",
              "      <td>CA</td>\n",
              "      <td>11</td>\n",
              "      <td>371108.5165</td>\n",
              "      <td>3824991.989</td>\n",
              "      <td>0</td>\n",
              "      <td>2008-01-22 00:00:00</td>\n",
              "      <td>1734.72</td>\n",
              "      <td>2008-01-21 15:47:00</td>\n",
              "      <td>2008-01-22 19:39:00</td>\n",
              "      <td>27.883</td>\n",
              "      <td>3.0</td>\n",
              "      <td>0.11</td>\n",
              "      <td>1.6</td>\n",
              "      <td>1.2</td>\n",
              "      <td>0.8</td>\n",
              "      <td>0.613415</td>\n",
              "      <td>0.092164</td>\n",
              "      <td>0.141711</td>\n",
              "      <td>0.250000</td>\n",
              "      <td>0.4</td>\n",
              "      <td>0.6</td>\n",
              "      <td>0.8</td>\n",
              "    </tr>\n",
              "    <tr>\n",
              "      <th>4</th>\n",
              "      <td>Buckweed</td>\n",
              "      <td>2007</td>\n",
              "      <td>bck</td>\n",
              "      <td>bck_363</td>\n",
              "      <td>Training</td>\n",
              "      <td>CA</td>\n",
              "      <td>11</td>\n",
              "      <td>370763.5165</td>\n",
              "      <td>3824576.989</td>\n",
              "      <td>0</td>\n",
              "      <td>2008-01-22 00:00:00</td>\n",
              "      <td>1801.04</td>\n",
              "      <td>2008-01-21 15:47:00</td>\n",
              "      <td>2008-01-22 19:39:00</td>\n",
              "      <td>27.883</td>\n",
              "      <td>3.0</td>\n",
              "      <td>0.11</td>\n",
              "      <td>1.6</td>\n",
              "      <td>1.2</td>\n",
              "      <td>0.8</td>\n",
              "      <td>0.538875</td>\n",
              "      <td>0.058353</td>\n",
              "      <td>0.210158</td>\n",
              "      <td>0.250000</td>\n",
              "      <td>0.4</td>\n",
              "      <td>0.6</td>\n",
              "      <td>0.8</td>\n",
              "    </tr>\n",
              "  </tbody>\n",
              "</table>\n",
              "</div>\n",
              "    <div class=\"colab-df-buttons\">\n",
              "\n",
              "  <div class=\"colab-df-container\">\n",
              "    <button class=\"colab-df-convert\" onclick=\"convertToInteractive('df-bbaf92bc-3972-4b6e-b092-47b24b44b2c5')\"\n",
              "            title=\"Convert this dataframe to an interactive table.\"\n",
              "            style=\"display:none;\">\n",
              "\n",
              "  <svg xmlns=\"http://www.w3.org/2000/svg\" height=\"24px\" viewBox=\"0 -960 960 960\">\n",
              "    <path d=\"M120-120v-720h720v720H120Zm60-500h600v-160H180v160Zm220 220h160v-160H400v160Zm0 220h160v-160H400v160ZM180-400h160v-160H180v160Zm440 0h160v-160H620v160ZM180-180h160v-160H180v160Zm440 0h160v-160H620v160Z\"/>\n",
              "  </svg>\n",
              "    </button>\n",
              "\n",
              "  <style>\n",
              "    .colab-df-container {\n",
              "      display:flex;\n",
              "      gap: 12px;\n",
              "    }\n",
              "\n",
              "    .colab-df-convert {\n",
              "      background-color: #E8F0FE;\n",
              "      border: none;\n",
              "      border-radius: 50%;\n",
              "      cursor: pointer;\n",
              "      display: none;\n",
              "      fill: #1967D2;\n",
              "      height: 32px;\n",
              "      padding: 0 0 0 0;\n",
              "      width: 32px;\n",
              "    }\n",
              "\n",
              "    .colab-df-convert:hover {\n",
              "      background-color: #E2EBFA;\n",
              "      box-shadow: 0px 1px 2px rgba(60, 64, 67, 0.3), 0px 1px 3px 1px rgba(60, 64, 67, 0.15);\n",
              "      fill: #174EA6;\n",
              "    }\n",
              "\n",
              "    .colab-df-buttons div {\n",
              "      margin-bottom: 4px;\n",
              "    }\n",
              "\n",
              "    [theme=dark] .colab-df-convert {\n",
              "      background-color: #3B4455;\n",
              "      fill: #D2E3FC;\n",
              "    }\n",
              "\n",
              "    [theme=dark] .colab-df-convert:hover {\n",
              "      background-color: #434B5C;\n",
              "      box-shadow: 0px 1px 3px 1px rgba(0, 0, 0, 0.15);\n",
              "      filter: drop-shadow(0px 1px 2px rgba(0, 0, 0, 0.3));\n",
              "      fill: #FFFFFF;\n",
              "    }\n",
              "  </style>\n",
              "\n",
              "    <script>\n",
              "      const buttonEl =\n",
              "        document.querySelector('#df-bbaf92bc-3972-4b6e-b092-47b24b44b2c5 button.colab-df-convert');\n",
              "      buttonEl.style.display =\n",
              "        google.colab.kernel.accessAllowed ? 'block' : 'none';\n",
              "\n",
              "      async function convertToInteractive(key) {\n",
              "        const element = document.querySelector('#df-bbaf92bc-3972-4b6e-b092-47b24b44b2c5');\n",
              "        const dataTable =\n",
              "          await google.colab.kernel.invokeFunction('convertToInteractive',\n",
              "                                                    [key], {});\n",
              "        if (!dataTable) return;\n",
              "\n",
              "        const docLinkHtml = 'Like what you see? Visit the ' +\n",
              "          '<a target=\"_blank\" href=https://colab.research.google.com/notebooks/data_table.ipynb>data table notebook</a>'\n",
              "          + ' to learn more about interactive tables.';\n",
              "        element.innerHTML = '';\n",
              "        dataTable['output_type'] = 'display_data';\n",
              "        await google.colab.output.renderOutput(dataTable, element);\n",
              "        const docLink = document.createElement('div');\n",
              "        docLink.innerHTML = docLinkHtml;\n",
              "        element.appendChild(docLink);\n",
              "      }\n",
              "    </script>\n",
              "  </div>\n",
              "\n",
              "\n",
              "<div id=\"df-19d578e0-f729-44b7-8b8f-bfcd5fcf5423\">\n",
              "  <button class=\"colab-df-quickchart\" onclick=\"quickchart('df-19d578e0-f729-44b7-8b8f-bfcd5fcf5423')\"\n",
              "            title=\"Suggest charts\"\n",
              "            style=\"display:none;\">\n",
              "\n",
              "<svg xmlns=\"http://www.w3.org/2000/svg\" height=\"24px\"viewBox=\"0 0 24 24\"\n",
              "     width=\"24px\">\n",
              "    <g>\n",
              "        <path d=\"M19 3H5c-1.1 0-2 .9-2 2v14c0 1.1.9 2 2 2h14c1.1 0 2-.9 2-2V5c0-1.1-.9-2-2-2zM9 17H7v-7h2v7zm4 0h-2V7h2v10zm4 0h-2v-4h2v4z\"/>\n",
              "    </g>\n",
              "</svg>\n",
              "  </button>\n",
              "\n",
              "<style>\n",
              "  .colab-df-quickchart {\n",
              "      --bg-color: #E8F0FE;\n",
              "      --fill-color: #1967D2;\n",
              "      --hover-bg-color: #E2EBFA;\n",
              "      --hover-fill-color: #174EA6;\n",
              "      --disabled-fill-color: #AAA;\n",
              "      --disabled-bg-color: #DDD;\n",
              "  }\n",
              "\n",
              "  [theme=dark] .colab-df-quickchart {\n",
              "      --bg-color: #3B4455;\n",
              "      --fill-color: #D2E3FC;\n",
              "      --hover-bg-color: #434B5C;\n",
              "      --hover-fill-color: #FFFFFF;\n",
              "      --disabled-bg-color: #3B4455;\n",
              "      --disabled-fill-color: #666;\n",
              "  }\n",
              "\n",
              "  .colab-df-quickchart {\n",
              "    background-color: var(--bg-color);\n",
              "    border: none;\n",
              "    border-radius: 50%;\n",
              "    cursor: pointer;\n",
              "    display: none;\n",
              "    fill: var(--fill-color);\n",
              "    height: 32px;\n",
              "    padding: 0;\n",
              "    width: 32px;\n",
              "  }\n",
              "\n",
              "  .colab-df-quickchart:hover {\n",
              "    background-color: var(--hover-bg-color);\n",
              "    box-shadow: 0 1px 2px rgba(60, 64, 67, 0.3), 0 1px 3px 1px rgba(60, 64, 67, 0.15);\n",
              "    fill: var(--button-hover-fill-color);\n",
              "  }\n",
              "\n",
              "  .colab-df-quickchart-complete:disabled,\n",
              "  .colab-df-quickchart-complete:disabled:hover {\n",
              "    background-color: var(--disabled-bg-color);\n",
              "    fill: var(--disabled-fill-color);\n",
              "    box-shadow: none;\n",
              "  }\n",
              "\n",
              "  .colab-df-spinner {\n",
              "    border: 2px solid var(--fill-color);\n",
              "    border-color: transparent;\n",
              "    border-bottom-color: var(--fill-color);\n",
              "    animation:\n",
              "      spin 1s steps(1) infinite;\n",
              "  }\n",
              "\n",
              "  @keyframes spin {\n",
              "    0% {\n",
              "      border-color: transparent;\n",
              "      border-bottom-color: var(--fill-color);\n",
              "      border-left-color: var(--fill-color);\n",
              "    }\n",
              "    20% {\n",
              "      border-color: transparent;\n",
              "      border-left-color: var(--fill-color);\n",
              "      border-top-color: var(--fill-color);\n",
              "    }\n",
              "    30% {\n",
              "      border-color: transparent;\n",
              "      border-left-color: var(--fill-color);\n",
              "      border-top-color: var(--fill-color);\n",
              "      border-right-color: var(--fill-color);\n",
              "    }\n",
              "    40% {\n",
              "      border-color: transparent;\n",
              "      border-right-color: var(--fill-color);\n",
              "      border-top-color: var(--fill-color);\n",
              "    }\n",
              "    60% {\n",
              "      border-color: transparent;\n",
              "      border-right-color: var(--fill-color);\n",
              "    }\n",
              "    80% {\n",
              "      border-color: transparent;\n",
              "      border-right-color: var(--fill-color);\n",
              "      border-bottom-color: var(--fill-color);\n",
              "    }\n",
              "    90% {\n",
              "      border-color: transparent;\n",
              "      border-bottom-color: var(--fill-color);\n",
              "    }\n",
              "  }\n",
              "</style>\n",
              "\n",
              "  <script>\n",
              "    async function quickchart(key) {\n",
              "      const quickchartButtonEl =\n",
              "        document.querySelector('#' + key + ' button');\n",
              "      quickchartButtonEl.disabled = true;  // To prevent multiple clicks.\n",
              "      quickchartButtonEl.classList.add('colab-df-spinner');\n",
              "      try {\n",
              "        const charts = await google.colab.kernel.invokeFunction(\n",
              "            'suggestCharts', [key], {});\n",
              "      } catch (error) {\n",
              "        console.error('Error during call to suggestCharts:', error);\n",
              "      }\n",
              "      quickchartButtonEl.classList.remove('colab-df-spinner');\n",
              "      quickchartButtonEl.classList.add('colab-df-quickchart-complete');\n",
              "    }\n",
              "    (() => {\n",
              "      let quickchartButtonEl =\n",
              "        document.querySelector('#df-19d578e0-f729-44b7-8b8f-bfcd5fcf5423 button');\n",
              "      quickchartButtonEl.style.display =\n",
              "        google.colab.kernel.accessAllowed ? 'block' : 'none';\n",
              "    })();\n",
              "  </script>\n",
              "</div>\n",
              "\n",
              "    </div>\n",
              "  </div>\n"
            ],
            "application/vnd.google.colaboratory.intrinsic+json": {
              "type": "dataframe",
              "variable_name": "clime"
            }
          },
          "metadata": {},
          "execution_count": 6
        }
      ],
      "source": [
        "clime.head()"
      ]
    },
    {
      "cell_type": "code",
      "execution_count": null,
      "metadata": {
        "id": "So5TnO6y4jQH",
        "colab": {
          "base_uri": "https://localhost:8080/"
        },
        "outputId": "69515a15-8fca-429b-bfb1-097eaf90df84"
      },
      "outputs": [
        {
          "output_type": "execute_result",
          "data": {
            "text/plain": [
              "(1550, 27)"
            ]
          },
          "metadata": {},
          "execution_count": 7
        }
      ],
      "source": [
        "clime.shape"
      ]
    },
    {
      "cell_type": "code",
      "source": [
        "clime.info()"
      ],
      "metadata": {
        "id": "RHbfHBSCY8cY",
        "colab": {
          "base_uri": "https://localhost:8080/"
        },
        "outputId": "d0aee9cb-8435-4b0e-a465-8680869025bf",
        "collapsed": true
      },
      "execution_count": null,
      "outputs": [
        {
          "output_type": "stream",
          "name": "stdout",
          "text": [
            "<class 'pandas.core.frame.DataFrame'>\n",
            "RangeIndex: 1550 entries, 0 to 1549\n",
            "Data columns (total 27 columns):\n",
            " #   Column                Non-Null Count  Dtype         \n",
            "---  ------                --------------  -----         \n",
            " 0   Fire Name             1550 non-null   object        \n",
            " 1   Year                  1550 non-null   int64         \n",
            " 2   Fire_ID               1550 non-null   object        \n",
            " 3   Fire_SegID            1550 non-null   object        \n",
            " 4   Database              1550 non-null   object        \n",
            " 5   State                 1550 non-null   object        \n",
            " 6   UTM_Zone              1550 non-null   int64         \n",
            " 7   UTM_X                 1550 non-null   float64       \n",
            " 8   UTM_Y                 1550 non-null   float64       \n",
            " 9   Response              1550 non-null   int64         \n",
            " 10  StormDate             1550 non-null   object        \n",
            " 11  GaugeDist_m           1550 non-null   float64       \n",
            " 12  StormStart            1390 non-null   datetime64[ns]\n",
            " 13  StormEnd              1390 non-null   datetime64[ns]\n",
            " 14  StormDur_H            1550 non-null   float64       \n",
            " 15  StormAccum_mm         1550 non-null   float64       \n",
            " 16  StormAvgI_mm/h        1550 non-null   float64       \n",
            " 17  Peak_I15_mm/h         1320 non-null   float64       \n",
            " 18  Peak_I30_mm/h         1336 non-null   float64       \n",
            " 19  Peak_I60_mm/h         1294 non-null   float64       \n",
            " 20  ContributingArea_km2  1550 non-null   float64       \n",
            " 21  PropHM23              1550 non-null   float64       \n",
            " 22  dNBR/1000             1473 non-null   float64       \n",
            " 23  KF                    1550 non-null   float64       \n",
            " 24  Acc015_mm             1320 non-null   float64       \n",
            " 25  Acc030_mm             1336 non-null   float64       \n",
            " 26  Acc060_mm             1294 non-null   float64       \n",
            "dtypes: datetime64[ns](2), float64(16), int64(3), object(6)\n",
            "memory usage: 327.1+ KB\n"
          ]
        }
      ]
    },
    {
      "cell_type": "code",
      "source": [
        "clime = clime.drop(['Fire Name','Fire_ID','Fire_SegID','Database','State','StormDate','StormStart','StormEnd','UTM_X','UTM_Y','Peak_I15_mm/h','Peak_I60_mm/h','Acc015_mm','Acc060_mm'], axis = 1 )"
      ],
      "metadata": {
        "id": "-iwvFdu-v4j5"
      },
      "execution_count": null,
      "outputs": []
    },
    {
      "cell_type": "code",
      "source": [
        "clime.describe().transpose()"
      ],
      "metadata": {
        "id": "nXUOdlF-1-5B",
        "colab": {
          "base_uri": "https://localhost:8080/",
          "height": 457
        },
        "outputId": "f59b9bbe-4f0d-4203-b6ab-b2cceb991103"
      },
      "execution_count": null,
      "outputs": [
        {
          "output_type": "execute_result",
          "data": {
            "text/plain": [
              "                       count         mean          std          min  \\\n",
              "Year                  1550.0  2006.933548     3.466538  2000.000000   \n",
              "UTM_Zone              1550.0    11.616129     0.836003    11.000000   \n",
              "Response              1550.0     0.215484     0.411290     0.000000   \n",
              "GaugeDist_m           1550.0  1958.996196  1071.810282    27.843965   \n",
              "StormDur_H            1550.0    18.446009    18.507975     0.000000   \n",
              "StormAccum_mm         1550.0    34.971515    38.374910     0.000000   \n",
              "StormAvgI_mm/h        1550.0     4.877449     9.364335     0.000000   \n",
              "Peak_I30_mm/h         1336.0    16.977987    14.776918     1.200000   \n",
              "ContributingArea_km2  1550.0     1.047743     1.537803     0.020100   \n",
              "PropHM23              1550.0     0.478713     0.276017     0.000000   \n",
              "dNBR/1000             1473.0     0.340318     0.189386     0.007158   \n",
              "KF                    1550.0     0.233063     0.427766     0.000000   \n",
              "Acc030_mm             1336.0     8.488994     7.388459     0.600000   \n",
              "\n",
              "                              25%          50%          75%          max  \n",
              "Year                  2003.000000  2009.000000  2009.000000  2012.000000  \n",
              "UTM_Zone                11.000000    11.000000    12.000000    13.000000  \n",
              "Response                 0.000000     0.000000     0.000000     1.000000  \n",
              "GaugeDist_m           1037.460000  1913.675000  2811.027500  3999.300000  \n",
              "StormDur_H               2.000000    14.300000    27.137500    65.000000  \n",
              "StormAccum_mm            8.380000    22.000000    51.200000   222.250000  \n",
              "StormAvgI_mm/h           0.615758     1.960000     4.237463    58.670143  \n",
              "Peak_I30_mm/h            8.128000    12.000000    20.500000    80.000000  \n",
              "ContributingArea_km2     0.108485     0.435986     1.308229     7.888105  \n",
              "PropHM23                 0.233447     0.523288     0.692406     0.989526  \n",
              "dNBR/1000                0.193488     0.311481     0.461550     0.997439  \n",
              "KF                       0.150000     0.239361     0.260000    11.360418  \n",
              "Acc030_mm                4.064000     6.000000    10.250000    40.000000  "
            ],
            "text/html": [
              "\n",
              "  <div id=\"df-c88f4e90-2fc9-458a-999e-d2846a6facb3\" class=\"colab-df-container\">\n",
              "    <div>\n",
              "<style scoped>\n",
              "    .dataframe tbody tr th:only-of-type {\n",
              "        vertical-align: middle;\n",
              "    }\n",
              "\n",
              "    .dataframe tbody tr th {\n",
              "        vertical-align: top;\n",
              "    }\n",
              "\n",
              "    .dataframe thead th {\n",
              "        text-align: right;\n",
              "    }\n",
              "</style>\n",
              "<table border=\"1\" class=\"dataframe\">\n",
              "  <thead>\n",
              "    <tr style=\"text-align: right;\">\n",
              "      <th></th>\n",
              "      <th>count</th>\n",
              "      <th>mean</th>\n",
              "      <th>std</th>\n",
              "      <th>min</th>\n",
              "      <th>25%</th>\n",
              "      <th>50%</th>\n",
              "      <th>75%</th>\n",
              "      <th>max</th>\n",
              "    </tr>\n",
              "  </thead>\n",
              "  <tbody>\n",
              "    <tr>\n",
              "      <th>Year</th>\n",
              "      <td>1550.0</td>\n",
              "      <td>2006.933548</td>\n",
              "      <td>3.466538</td>\n",
              "      <td>2000.000000</td>\n",
              "      <td>2003.000000</td>\n",
              "      <td>2009.000000</td>\n",
              "      <td>2009.000000</td>\n",
              "      <td>2012.000000</td>\n",
              "    </tr>\n",
              "    <tr>\n",
              "      <th>UTM_Zone</th>\n",
              "      <td>1550.0</td>\n",
              "      <td>11.616129</td>\n",
              "      <td>0.836003</td>\n",
              "      <td>11.000000</td>\n",
              "      <td>11.000000</td>\n",
              "      <td>11.000000</td>\n",
              "      <td>12.000000</td>\n",
              "      <td>13.000000</td>\n",
              "    </tr>\n",
              "    <tr>\n",
              "      <th>Response</th>\n",
              "      <td>1550.0</td>\n",
              "      <td>0.215484</td>\n",
              "      <td>0.411290</td>\n",
              "      <td>0.000000</td>\n",
              "      <td>0.000000</td>\n",
              "      <td>0.000000</td>\n",
              "      <td>0.000000</td>\n",
              "      <td>1.000000</td>\n",
              "    </tr>\n",
              "    <tr>\n",
              "      <th>GaugeDist_m</th>\n",
              "      <td>1550.0</td>\n",
              "      <td>1958.996196</td>\n",
              "      <td>1071.810282</td>\n",
              "      <td>27.843965</td>\n",
              "      <td>1037.460000</td>\n",
              "      <td>1913.675000</td>\n",
              "      <td>2811.027500</td>\n",
              "      <td>3999.300000</td>\n",
              "    </tr>\n",
              "    <tr>\n",
              "      <th>StormDur_H</th>\n",
              "      <td>1550.0</td>\n",
              "      <td>18.446009</td>\n",
              "      <td>18.507975</td>\n",
              "      <td>0.000000</td>\n",
              "      <td>2.000000</td>\n",
              "      <td>14.300000</td>\n",
              "      <td>27.137500</td>\n",
              "      <td>65.000000</td>\n",
              "    </tr>\n",
              "    <tr>\n",
              "      <th>StormAccum_mm</th>\n",
              "      <td>1550.0</td>\n",
              "      <td>34.971515</td>\n",
              "      <td>38.374910</td>\n",
              "      <td>0.000000</td>\n",
              "      <td>8.380000</td>\n",
              "      <td>22.000000</td>\n",
              "      <td>51.200000</td>\n",
              "      <td>222.250000</td>\n",
              "    </tr>\n",
              "    <tr>\n",
              "      <th>StormAvgI_mm/h</th>\n",
              "      <td>1550.0</td>\n",
              "      <td>4.877449</td>\n",
              "      <td>9.364335</td>\n",
              "      <td>0.000000</td>\n",
              "      <td>0.615758</td>\n",
              "      <td>1.960000</td>\n",
              "      <td>4.237463</td>\n",
              "      <td>58.670143</td>\n",
              "    </tr>\n",
              "    <tr>\n",
              "      <th>Peak_I30_mm/h</th>\n",
              "      <td>1336.0</td>\n",
              "      <td>16.977987</td>\n",
              "      <td>14.776918</td>\n",
              "      <td>1.200000</td>\n",
              "      <td>8.128000</td>\n",
              "      <td>12.000000</td>\n",
              "      <td>20.500000</td>\n",
              "      <td>80.000000</td>\n",
              "    </tr>\n",
              "    <tr>\n",
              "      <th>ContributingArea_km2</th>\n",
              "      <td>1550.0</td>\n",
              "      <td>1.047743</td>\n",
              "      <td>1.537803</td>\n",
              "      <td>0.020100</td>\n",
              "      <td>0.108485</td>\n",
              "      <td>0.435986</td>\n",
              "      <td>1.308229</td>\n",
              "      <td>7.888105</td>\n",
              "    </tr>\n",
              "    <tr>\n",
              "      <th>PropHM23</th>\n",
              "      <td>1550.0</td>\n",
              "      <td>0.478713</td>\n",
              "      <td>0.276017</td>\n",
              "      <td>0.000000</td>\n",
              "      <td>0.233447</td>\n",
              "      <td>0.523288</td>\n",
              "      <td>0.692406</td>\n",
              "      <td>0.989526</td>\n",
              "    </tr>\n",
              "    <tr>\n",
              "      <th>dNBR/1000</th>\n",
              "      <td>1473.0</td>\n",
              "      <td>0.340318</td>\n",
              "      <td>0.189386</td>\n",
              "      <td>0.007158</td>\n",
              "      <td>0.193488</td>\n",
              "      <td>0.311481</td>\n",
              "      <td>0.461550</td>\n",
              "      <td>0.997439</td>\n",
              "    </tr>\n",
              "    <tr>\n",
              "      <th>KF</th>\n",
              "      <td>1550.0</td>\n",
              "      <td>0.233063</td>\n",
              "      <td>0.427766</td>\n",
              "      <td>0.000000</td>\n",
              "      <td>0.150000</td>\n",
              "      <td>0.239361</td>\n",
              "      <td>0.260000</td>\n",
              "      <td>11.360418</td>\n",
              "    </tr>\n",
              "    <tr>\n",
              "      <th>Acc030_mm</th>\n",
              "      <td>1336.0</td>\n",
              "      <td>8.488994</td>\n",
              "      <td>7.388459</td>\n",
              "      <td>0.600000</td>\n",
              "      <td>4.064000</td>\n",
              "      <td>6.000000</td>\n",
              "      <td>10.250000</td>\n",
              "      <td>40.000000</td>\n",
              "    </tr>\n",
              "  </tbody>\n",
              "</table>\n",
              "</div>\n",
              "    <div class=\"colab-df-buttons\">\n",
              "\n",
              "  <div class=\"colab-df-container\">\n",
              "    <button class=\"colab-df-convert\" onclick=\"convertToInteractive('df-c88f4e90-2fc9-458a-999e-d2846a6facb3')\"\n",
              "            title=\"Convert this dataframe to an interactive table.\"\n",
              "            style=\"display:none;\">\n",
              "\n",
              "  <svg xmlns=\"http://www.w3.org/2000/svg\" height=\"24px\" viewBox=\"0 -960 960 960\">\n",
              "    <path d=\"M120-120v-720h720v720H120Zm60-500h600v-160H180v160Zm220 220h160v-160H400v160Zm0 220h160v-160H400v160ZM180-400h160v-160H180v160Zm440 0h160v-160H620v160ZM180-180h160v-160H180v160Zm440 0h160v-160H620v160Z\"/>\n",
              "  </svg>\n",
              "    </button>\n",
              "\n",
              "  <style>\n",
              "    .colab-df-container {\n",
              "      display:flex;\n",
              "      gap: 12px;\n",
              "    }\n",
              "\n",
              "    .colab-df-convert {\n",
              "      background-color: #E8F0FE;\n",
              "      border: none;\n",
              "      border-radius: 50%;\n",
              "      cursor: pointer;\n",
              "      display: none;\n",
              "      fill: #1967D2;\n",
              "      height: 32px;\n",
              "      padding: 0 0 0 0;\n",
              "      width: 32px;\n",
              "    }\n",
              "\n",
              "    .colab-df-convert:hover {\n",
              "      background-color: #E2EBFA;\n",
              "      box-shadow: 0px 1px 2px rgba(60, 64, 67, 0.3), 0px 1px 3px 1px rgba(60, 64, 67, 0.15);\n",
              "      fill: #174EA6;\n",
              "    }\n",
              "\n",
              "    .colab-df-buttons div {\n",
              "      margin-bottom: 4px;\n",
              "    }\n",
              "\n",
              "    [theme=dark] .colab-df-convert {\n",
              "      background-color: #3B4455;\n",
              "      fill: #D2E3FC;\n",
              "    }\n",
              "\n",
              "    [theme=dark] .colab-df-convert:hover {\n",
              "      background-color: #434B5C;\n",
              "      box-shadow: 0px 1px 3px 1px rgba(0, 0, 0, 0.15);\n",
              "      filter: drop-shadow(0px 1px 2px rgba(0, 0, 0, 0.3));\n",
              "      fill: #FFFFFF;\n",
              "    }\n",
              "  </style>\n",
              "\n",
              "    <script>\n",
              "      const buttonEl =\n",
              "        document.querySelector('#df-c88f4e90-2fc9-458a-999e-d2846a6facb3 button.colab-df-convert');\n",
              "      buttonEl.style.display =\n",
              "        google.colab.kernel.accessAllowed ? 'block' : 'none';\n",
              "\n",
              "      async function convertToInteractive(key) {\n",
              "        const element = document.querySelector('#df-c88f4e90-2fc9-458a-999e-d2846a6facb3');\n",
              "        const dataTable =\n",
              "          await google.colab.kernel.invokeFunction('convertToInteractive',\n",
              "                                                    [key], {});\n",
              "        if (!dataTable) return;\n",
              "\n",
              "        const docLinkHtml = 'Like what you see? Visit the ' +\n",
              "          '<a target=\"_blank\" href=https://colab.research.google.com/notebooks/data_table.ipynb>data table notebook</a>'\n",
              "          + ' to learn more about interactive tables.';\n",
              "        element.innerHTML = '';\n",
              "        dataTable['output_type'] = 'display_data';\n",
              "        await google.colab.output.renderOutput(dataTable, element);\n",
              "        const docLink = document.createElement('div');\n",
              "        docLink.innerHTML = docLinkHtml;\n",
              "        element.appendChild(docLink);\n",
              "      }\n",
              "    </script>\n",
              "  </div>\n",
              "\n",
              "\n",
              "<div id=\"df-3a61016c-8db7-4639-a336-1627a816388f\">\n",
              "  <button class=\"colab-df-quickchart\" onclick=\"quickchart('df-3a61016c-8db7-4639-a336-1627a816388f')\"\n",
              "            title=\"Suggest charts\"\n",
              "            style=\"display:none;\">\n",
              "\n",
              "<svg xmlns=\"http://www.w3.org/2000/svg\" height=\"24px\"viewBox=\"0 0 24 24\"\n",
              "     width=\"24px\">\n",
              "    <g>\n",
              "        <path d=\"M19 3H5c-1.1 0-2 .9-2 2v14c0 1.1.9 2 2 2h14c1.1 0 2-.9 2-2V5c0-1.1-.9-2-2-2zM9 17H7v-7h2v7zm4 0h-2V7h2v10zm4 0h-2v-4h2v4z\"/>\n",
              "    </g>\n",
              "</svg>\n",
              "  </button>\n",
              "\n",
              "<style>\n",
              "  .colab-df-quickchart {\n",
              "      --bg-color: #E8F0FE;\n",
              "      --fill-color: #1967D2;\n",
              "      --hover-bg-color: #E2EBFA;\n",
              "      --hover-fill-color: #174EA6;\n",
              "      --disabled-fill-color: #AAA;\n",
              "      --disabled-bg-color: #DDD;\n",
              "  }\n",
              "\n",
              "  [theme=dark] .colab-df-quickchart {\n",
              "      --bg-color: #3B4455;\n",
              "      --fill-color: #D2E3FC;\n",
              "      --hover-bg-color: #434B5C;\n",
              "      --hover-fill-color: #FFFFFF;\n",
              "      --disabled-bg-color: #3B4455;\n",
              "      --disabled-fill-color: #666;\n",
              "  }\n",
              "\n",
              "  .colab-df-quickchart {\n",
              "    background-color: var(--bg-color);\n",
              "    border: none;\n",
              "    border-radius: 50%;\n",
              "    cursor: pointer;\n",
              "    display: none;\n",
              "    fill: var(--fill-color);\n",
              "    height: 32px;\n",
              "    padding: 0;\n",
              "    width: 32px;\n",
              "  }\n",
              "\n",
              "  .colab-df-quickchart:hover {\n",
              "    background-color: var(--hover-bg-color);\n",
              "    box-shadow: 0 1px 2px rgba(60, 64, 67, 0.3), 0 1px 3px 1px rgba(60, 64, 67, 0.15);\n",
              "    fill: var(--button-hover-fill-color);\n",
              "  }\n",
              "\n",
              "  .colab-df-quickchart-complete:disabled,\n",
              "  .colab-df-quickchart-complete:disabled:hover {\n",
              "    background-color: var(--disabled-bg-color);\n",
              "    fill: var(--disabled-fill-color);\n",
              "    box-shadow: none;\n",
              "  }\n",
              "\n",
              "  .colab-df-spinner {\n",
              "    border: 2px solid var(--fill-color);\n",
              "    border-color: transparent;\n",
              "    border-bottom-color: var(--fill-color);\n",
              "    animation:\n",
              "      spin 1s steps(1) infinite;\n",
              "  }\n",
              "\n",
              "  @keyframes spin {\n",
              "    0% {\n",
              "      border-color: transparent;\n",
              "      border-bottom-color: var(--fill-color);\n",
              "      border-left-color: var(--fill-color);\n",
              "    }\n",
              "    20% {\n",
              "      border-color: transparent;\n",
              "      border-left-color: var(--fill-color);\n",
              "      border-top-color: var(--fill-color);\n",
              "    }\n",
              "    30% {\n",
              "      border-color: transparent;\n",
              "      border-left-color: var(--fill-color);\n",
              "      border-top-color: var(--fill-color);\n",
              "      border-right-color: var(--fill-color);\n",
              "    }\n",
              "    40% {\n",
              "      border-color: transparent;\n",
              "      border-right-color: var(--fill-color);\n",
              "      border-top-color: var(--fill-color);\n",
              "    }\n",
              "    60% {\n",
              "      border-color: transparent;\n",
              "      border-right-color: var(--fill-color);\n",
              "    }\n",
              "    80% {\n",
              "      border-color: transparent;\n",
              "      border-right-color: var(--fill-color);\n",
              "      border-bottom-color: var(--fill-color);\n",
              "    }\n",
              "    90% {\n",
              "      border-color: transparent;\n",
              "      border-bottom-color: var(--fill-color);\n",
              "    }\n",
              "  }\n",
              "</style>\n",
              "\n",
              "  <script>\n",
              "    async function quickchart(key) {\n",
              "      const quickchartButtonEl =\n",
              "        document.querySelector('#' + key + ' button');\n",
              "      quickchartButtonEl.disabled = true;  // To prevent multiple clicks.\n",
              "      quickchartButtonEl.classList.add('colab-df-spinner');\n",
              "      try {\n",
              "        const charts = await google.colab.kernel.invokeFunction(\n",
              "            'suggestCharts', [key], {});\n",
              "      } catch (error) {\n",
              "        console.error('Error during call to suggestCharts:', error);\n",
              "      }\n",
              "      quickchartButtonEl.classList.remove('colab-df-spinner');\n",
              "      quickchartButtonEl.classList.add('colab-df-quickchart-complete');\n",
              "    }\n",
              "    (() => {\n",
              "      let quickchartButtonEl =\n",
              "        document.querySelector('#df-3a61016c-8db7-4639-a336-1627a816388f button');\n",
              "      quickchartButtonEl.style.display =\n",
              "        google.colab.kernel.accessAllowed ? 'block' : 'none';\n",
              "    })();\n",
              "  </script>\n",
              "</div>\n",
              "\n",
              "    </div>\n",
              "  </div>\n"
            ],
            "application/vnd.google.colaboratory.intrinsic+json": {
              "type": "dataframe",
              "summary": "{\n  \"name\": \"clime\",\n  \"rows\": 13,\n  \"fields\": [\n    {\n      \"column\": \"count\",\n      \"properties\": {\n        \"dtype\": \"number\",\n        \"std\": 80.57278919693893,\n        \"min\": 1336.0,\n        \"max\": 1550.0,\n        \"num_unique_values\": 3,\n        \"samples\": [\n          1550.0,\n          1336.0,\n          1473.0\n        ],\n        \"semantic_type\": \"\",\n        \"description\": \"\"\n      }\n    },\n    {\n      \"column\": \"mean\",\n      \"properties\": {\n        \"dtype\": \"number\",\n        \"std\": 741.4680761230417,\n        \"min\": 0.21548387096774194,\n        \"max\": 2006.9335483870968,\n        \"num_unique_values\": 13,\n        \"samples\": [\n          0.2330627109032258,\n          0.4787132947612903,\n          2006.9335483870968\n        ],\n        \"semantic_type\": \"\",\n        \"description\": \"\"\n      }\n    },\n    {\n      \"column\": \"std\",\n      \"properties\": {\n        \"dtype\": \"number\",\n        \"std\": 295.260044307171,\n        \"min\": 0.1893861393803068,\n        \"max\": 1071.8102816661735,\n        \"num_unique_values\": 13,\n        \"samples\": [\n          0.42776614682089487,\n          0.276017249149054,\n          3.4665379558760274\n        ],\n        \"semantic_type\": \"\",\n        \"description\": \"\"\n      }\n    },\n    {\n      \"column\": \"min\",\n      \"properties\": {\n        \"dtype\": \"number\",\n        \"std\": 553.8173822370218,\n        \"min\": 0.0,\n        \"max\": 2000.0,\n        \"num_unique_values\": 8,\n        \"samples\": [\n          11.0,\n          0.0201,\n          2000.0\n        ],\n        \"semantic_type\": \"\",\n        \"description\": \"\"\n      }\n    },\n    {\n      \"column\": \"25%\",\n      \"properties\": {\n        \"dtype\": \"number\",\n        \"std\": 602.84721426936,\n        \"min\": 0.0,\n        \"max\": 2003.0,\n        \"num_unique_values\": 13,\n        \"samples\": [\n          0.1500001,\n          0.23344689375,\n          2003.0\n        ],\n        \"semantic_type\": \"\",\n        \"description\": \"\"\n      }\n    },\n    {\n      \"column\": \"50%\",\n      \"properties\": {\n        \"dtype\": \"number\",\n        \"std\": 734.4905626306544,\n        \"min\": 0.0,\n        \"max\": 2009.0,\n        \"num_unique_values\": 13,\n        \"samples\": [\n          0.2393612,\n          0.5232880785,\n          2009.0\n        ],\n        \"semantic_type\": \"\",\n        \"description\": \"\"\n      }\n    },\n    {\n      \"column\": \"75%\",\n      \"properties\": {\n        \"dtype\": \"number\",\n        \"std\": 915.5445775462581,\n        \"min\": 0.0,\n        \"max\": 2811.0275,\n        \"num_unique_values\": 13,\n        \"samples\": [\n          0.26,\n          0.6924057195,\n          2009.0\n        ],\n        \"semantic_type\": \"\",\n        \"description\": \"\"\n      }\n    },\n    {\n      \"column\": \"max\",\n      \"properties\": {\n        \"dtype\": \"number\",\n        \"std\": 1184.817230217254,\n        \"min\": 0.989525528,\n        \"max\": 3999.3,\n        \"num_unique_values\": 13,\n        \"samples\": [\n          11.3604183,\n          0.989525528,\n          2012.0\n        ],\n        \"semantic_type\": \"\",\n        \"description\": \"\"\n      }\n    }\n  ]\n}"
            }
          },
          "metadata": {},
          "execution_count": 10
        }
      ]
    },
    {
      "cell_type": "code",
      "execution_count": null,
      "metadata": {
        "id": "KHOVZoGBptXO",
        "colab": {
          "base_uri": "https://localhost:8080/",
          "height": 178
        },
        "outputId": "1d9fabf8-7349-4965-e372-3770c094a405"
      },
      "outputs": [
        {
          "output_type": "execute_result",
          "data": {
            "text/plain": [
              "Response\n",
              "0    1216\n",
              "1     334\n",
              "Name: count, dtype: int64"
            ],
            "text/html": [
              "<div>\n",
              "<style scoped>\n",
              "    .dataframe tbody tr th:only-of-type {\n",
              "        vertical-align: middle;\n",
              "    }\n",
              "\n",
              "    .dataframe tbody tr th {\n",
              "        vertical-align: top;\n",
              "    }\n",
              "\n",
              "    .dataframe thead th {\n",
              "        text-align: right;\n",
              "    }\n",
              "</style>\n",
              "<table border=\"1\" class=\"dataframe\">\n",
              "  <thead>\n",
              "    <tr style=\"text-align: right;\">\n",
              "      <th></th>\n",
              "      <th>count</th>\n",
              "    </tr>\n",
              "    <tr>\n",
              "      <th>Response</th>\n",
              "      <th></th>\n",
              "    </tr>\n",
              "  </thead>\n",
              "  <tbody>\n",
              "    <tr>\n",
              "      <th>0</th>\n",
              "      <td>1216</td>\n",
              "    </tr>\n",
              "    <tr>\n",
              "      <th>1</th>\n",
              "      <td>334</td>\n",
              "    </tr>\n",
              "  </tbody>\n",
              "</table>\n",
              "</div><br><label><b>dtype:</b> int64</label>"
            ]
          },
          "metadata": {},
          "execution_count": 11
        }
      ],
      "source": [
        "clime['Response'].value_counts( dropna = False)\n"
      ]
    },
    {
      "cell_type": "code",
      "source": [
        "clime.info()"
      ],
      "metadata": {
        "colab": {
          "base_uri": "https://localhost:8080/"
        },
        "id": "6ejzpstM17si",
        "outputId": "47945a9b-56e7-4490-8d29-c33da1e321c5"
      },
      "execution_count": null,
      "outputs": [
        {
          "output_type": "stream",
          "name": "stdout",
          "text": [
            "<class 'pandas.core.frame.DataFrame'>\n",
            "RangeIndex: 1550 entries, 0 to 1549\n",
            "Data columns (total 13 columns):\n",
            " #   Column                Non-Null Count  Dtype  \n",
            "---  ------                --------------  -----  \n",
            " 0   Year                  1550 non-null   int64  \n",
            " 1   UTM_Zone              1550 non-null   int64  \n",
            " 2   Response              1550 non-null   int64  \n",
            " 3   GaugeDist_m           1550 non-null   float64\n",
            " 4   StormDur_H            1550 non-null   float64\n",
            " 5   StormAccum_mm         1550 non-null   float64\n",
            " 6   StormAvgI_mm/h        1550 non-null   float64\n",
            " 7   Peak_I30_mm/h         1336 non-null   float64\n",
            " 8   ContributingArea_km2  1550 non-null   float64\n",
            " 9   PropHM23              1550 non-null   float64\n",
            " 10  dNBR/1000             1473 non-null   float64\n",
            " 11  KF                    1550 non-null   float64\n",
            " 12  Acc030_mm             1336 non-null   float64\n",
            "dtypes: float64(10), int64(3)\n",
            "memory usage: 157.5 KB\n"
          ]
        }
      ]
    },
    {
      "cell_type": "code",
      "source": [
        "def fill_nulls_with_mean(df):\n",
        "  \"\"\"\n",
        "  Replaces null values in a DataFrame with the mean of each column.\n",
        "\n",
        "  Args:\n",
        "    df: The pandas DataFrame to process.\n",
        "\n",
        "  Returns:\n",
        "    A DataFrame with null values replaced by column means.\n",
        "  \"\"\"\n",
        "\n",
        "  for column in df.columns:\n",
        "    column_mean = df[column].mean()\n",
        "    df[column].fillna(column_mean, inplace=True)\n",
        "\n",
        "  return df\n"
      ],
      "metadata": {
        "id": "XDIgqzBu3J35"
      },
      "execution_count": null,
      "outputs": []
    },
    {
      "cell_type": "code",
      "source": [
        "pima = fill_nulls_with_mean(clime)"
      ],
      "metadata": {
        "colab": {
          "base_uri": "https://localhost:8080/"
        },
        "id": "Fm5gGHY33La_",
        "outputId": "a54bbc02-5bdd-465e-dab7-c2524786fa1b"
      },
      "execution_count": null,
      "outputs": [
        {
          "output_type": "stream",
          "name": "stderr",
          "text": [
            "<ipython-input-13-22b674667130>:14: FutureWarning: A value is trying to be set on a copy of a DataFrame or Series through chained assignment using an inplace method.\n",
            "The behavior will change in pandas 3.0. This inplace method will never work because the intermediate object on which we are setting values always behaves as a copy.\n",
            "\n",
            "For example, when doing 'df[col].method(value, inplace=True)', try using 'df.method({col: value}, inplace=True)' or df[col] = df[col].method(value) instead, to perform the operation inplace on the original object.\n",
            "\n",
            "\n",
            "  df[column].fillna(column_mean, inplace=True)\n"
          ]
        }
      ]
    },
    {
      "cell_type": "code",
      "source": [
        "clime.info()"
      ],
      "metadata": {
        "colab": {
          "base_uri": "https://localhost:8080/"
        },
        "id": "QhUXrziu3T7m",
        "outputId": "5e7638d2-9894-47de-85cd-f8f6fbb1957c"
      },
      "execution_count": null,
      "outputs": [
        {
          "output_type": "stream",
          "name": "stdout",
          "text": [
            "<class 'pandas.core.frame.DataFrame'>\n",
            "RangeIndex: 1550 entries, 0 to 1549\n",
            "Data columns (total 13 columns):\n",
            " #   Column                Non-Null Count  Dtype  \n",
            "---  ------                --------------  -----  \n",
            " 0   Year                  1550 non-null   int64  \n",
            " 1   UTM_Zone              1550 non-null   int64  \n",
            " 2   Response              1550 non-null   int64  \n",
            " 3   GaugeDist_m           1550 non-null   float64\n",
            " 4   StormDur_H            1550 non-null   float64\n",
            " 5   StormAccum_mm         1550 non-null   float64\n",
            " 6   StormAvgI_mm/h        1550 non-null   float64\n",
            " 7   Peak_I30_mm/h         1550 non-null   float64\n",
            " 8   ContributingArea_km2  1550 non-null   float64\n",
            " 9   PropHM23              1550 non-null   float64\n",
            " 10  dNBR/1000             1550 non-null   float64\n",
            " 11  KF                    1550 non-null   float64\n",
            " 12  Acc030_mm             1550 non-null   float64\n",
            "dtypes: float64(10), int64(3)\n",
            "memory usage: 157.5 KB\n"
          ]
        }
      ]
    },
    {
      "cell_type": "code",
      "execution_count": null,
      "metadata": {
        "id": "V4vN4GUQ1S_S"
      },
      "outputs": [],
      "source": [
        "X = clime.drop('Response',axis=1).copy()\n",
        "y = clime['Response'].copy()"
      ]
    },
    {
      "cell_type": "markdown",
      "metadata": {
        "id": "kJ3lwI3L4nyw"
      },
      "source": [
        "## EDA"
      ]
    },
    {
      "cell_type": "markdown",
      "source": [
        "### Correlation matrix plot"
      ],
      "metadata": {
        "id": "rnKoonr4wmzj"
      }
    },
    {
      "cell_type": "code",
      "source": [
        "corr = clime.corr()\n",
        "plt.figure(figsize=(10,6))\n",
        "sns.heatmap(corr, cmap='Blues',annot = False);"
      ],
      "metadata": {
        "colab": {
          "base_uri": "https://localhost:8080/",
          "height": 670
        },
        "id": "v7fCNccqrEAp",
        "outputId": "74416e68-2546-4b8b-b505-0b31022b3c5b"
      },
      "execution_count": null,
      "outputs": [
        {
          "output_type": "display_data",
          "data": {
            "text/plain": [
              "<Figure size 1000x600 with 2 Axes>"
            ],
            "image/png": "[encoded data removed]"
          },
          "metadata": {}
        }
      ]
    },
    {
      "cell_type": "code",
      "execution_count": null,
      "metadata": {
        "id": "4iVJP0ly4ohu",
        "colab": {
          "base_uri": "https://localhost:8080/",
          "height": 846
        },
        "outputId": "81e9478a-8f7d-4f39-d14a-063ffebe6682",
        "collapsed": true
      },
      "outputs": [
        {
          "output_type": "display_data",
          "data": {
            "text/plain": [
              "<Figure size 4000x1500 with 2 Axes>"
            ],
            "image/png": "[encoded data removed]"
          },
          "metadata": {}
        }
      ],
      "source": [
        "mask = np.triu(np.ones_like(corr, dtype=bool))\n",
        "plt.figure(figsize=(40, 15))\n",
        "sns.heatmap(corr, mask=mask, annot=True, cmap='coolwarm', center=0)\n",
        "plt.show()"
      ]
    },
    {
      "cell_type": "code",
      "source": [
        "corr_unstacked = corr.unstack()\n",
        "corr_unstacked"
      ],
      "metadata": {
        "colab": {
          "base_uri": "https://localhost:8080/",
          "height": 458
        },
        "id": "16y9l-G6q7gk",
        "outputId": "d18d1077-efae-497a-8e6d-2a7b89dccd38"
      },
      "execution_count": null,
      "outputs": [
        {
          "output_type": "execute_result",
          "data": {
            "text/plain": [
              "Year       Year                    1.000000\n",
              "           UTM_Zone               -0.383274\n",
              "           Response               -0.020740\n",
              "           GaugeDist_m             0.059865\n",
              "           StormDur_H             -0.077234\n",
              "                                     ...   \n",
              "Acc030_mm  ContributingArea_km2    0.057559\n",
              "           PropHM23                0.046114\n",
              "           dNBR/1000               0.082017\n",
              "           KF                      0.067302\n",
              "           Acc030_mm               1.000000\n",
              "Length: 169, dtype: float64"
            ],
            "text/html": [
              "<div>\n",
              "<style scoped>\n",
              "    .dataframe tbody tr th:only-of-type {\n",
              "        vertical-align: middle;\n",
              "    }\n",
              "\n",
              "    .dataframe tbody tr th {\n",
              "        vertical-align: top;\n",
              "    }\n",
              "\n",
              "    .dataframe thead th {\n",
              "        text-align: right;\n",
              "    }\n",
              "</style>\n",
              "<table border=\"1\" class=\"dataframe\">\n",
              "  <thead>\n",
              "    <tr style=\"text-align: right;\">\n",
              "      <th></th>\n",
              "      <th></th>\n",
              "      <th>0</th>\n",
              "    </tr>\n",
              "  </thead>\n",
              "  <tbody>\n",
              "    <tr>\n",
              "      <th rowspan=\"5\" valign=\"top\">Year</th>\n",
              "      <th>Year</th>\n",
              "      <td>1.000000</td>\n",
              "    </tr>\n",
              "    <tr>\n",
              "      <th>UTM_Zone</th>\n",
              "      <td>-0.383274</td>\n",
              "    </tr>\n",
              "    <tr>\n",
              "      <th>Response</th>\n",
              "      <td>-0.020740</td>\n",
              "    </tr>\n",
              "    <tr>\n",
              "      <th>GaugeDist_m</th>\n",
              "      <td>0.059865</td>\n",
              "    </tr>\n",
              "    <tr>\n",
              "      <th>StormDur_H</th>\n",
              "      <td>-0.077234</td>\n",
              "    </tr>\n",
              "    <tr>\n",
              "      <th>...</th>\n",
              "      <th>...</th>\n",
              "      <td>...</td>\n",
              "    </tr>\n",
              "    <tr>\n",
              "      <th rowspan=\"5\" valign=\"top\">Acc030_mm</th>\n",
              "      <th>ContributingArea_km2</th>\n",
              "      <td>0.057559</td>\n",
              "    </tr>\n",
              "    <tr>\n",
              "      <th>PropHM23</th>\n",
              "      <td>0.046114</td>\n",
              "    </tr>\n",
              "    <tr>\n",
              "      <th>dNBR/1000</th>\n",
              "      <td>0.082017</td>\n",
              "    </tr>\n",
              "    <tr>\n",
              "      <th>KF</th>\n",
              "      <td>0.067302</td>\n",
              "    </tr>\n",
              "    <tr>\n",
              "      <th>Acc030_mm</th>\n",
              "      <td>1.000000</td>\n",
              "    </tr>\n",
              "  </tbody>\n",
              "</table>\n",
              "<p>169 rows × 1 columns</p>\n",
              "</div><br><label><b>dtype:</b> float64</label>"
            ]
          },
          "metadata": {},
          "execution_count": 19
        }
      ]
    },
    {
      "cell_type": "code",
      "source": [
        "corr = clime.corr().abs()\n",
        "corr = corr.melt(\n",
        "    ignore_index = False,\n",
        "    var_name = 'feature',\n",
        "    value_name = 'correlation',\n",
        "    )\n",
        "corr = corr[corr['correlation'] != 1]\n",
        "corr.sort_values(\n",
        "    'correlation',\n",
        "    inplace=True,\n",
        "    ascending=False,\n",
        "    )\n",
        "corr[::2].head(5)"
      ],
      "metadata": {
        "colab": {
          "base_uri": "https://localhost:8080/",
          "height": 206
        },
        "id": "ei0DQAeLrpgT",
        "outputId": "052c2045-cecb-4d35-f85b-18090d45d855"
      },
      "execution_count": null,
      "outputs": [
        {
          "output_type": "execute_result",
          "data": {
            "text/plain": [
              "                      feature  correlation\n",
              "Acc030_mm      StormAvgI_mm/h     0.710845\n",
              "Peak_I30_mm/h  StormAvgI_mm/h     0.710845\n",
              "StormDur_H      StormAccum_mm     0.558237\n",
              "UTM_Zone            dNBR/1000     0.525684\n",
              "Response        StormAccum_mm     0.417438"
            ],
            "text/html": [
              "\n",
              "  <div id=\"df-f6ec142b-654e-4980-a4dc-b647307bf5ff\" class=\"colab-df-container\">\n",
              "    <div>\n",
              "<style scoped>\n",
              "    .dataframe tbody tr th:only-of-type {\n",
              "        vertical-align: middle;\n",
              "    }\n",
              "\n",
              "    .dataframe tbody tr th {\n",
              "        vertical-align: top;\n",
              "    }\n",
              "\n",
              "    .dataframe thead th {\n",
              "        text-align: right;\n",
              "    }\n",
              "</style>\n",
              "<table border=\"1\" class=\"dataframe\">\n",
              "  <thead>\n",
              "    <tr style=\"text-align: right;\">\n",
              "      <th></th>\n",
              "      <th>feature</th>\n",
              "      <th>correlation</th>\n",
              "    </tr>\n",
              "  </thead>\n",
              "  <tbody>\n",
              "    <tr>\n",
              "      <th>Acc030_mm</th>\n",
              "      <td>StormAvgI_mm/h</td>\n",
              "      <td>0.710845</td>\n",
              "    </tr>\n",
              "    <tr>\n",
              "      <th>Peak_I30_mm/h</th>\n",
              "      <td>StormAvgI_mm/h</td>\n",
              "      <td>0.710845</td>\n",
              "    </tr>\n",
              "    <tr>\n",
              "      <th>StormDur_H</th>\n",
              "      <td>StormAccum_mm</td>\n",
              "      <td>0.558237</td>\n",
              "    </tr>\n",
              "    <tr>\n",
              "      <th>UTM_Zone</th>\n",
              "      <td>dNBR/1000</td>\n",
              "      <td>0.525684</td>\n",
              "    </tr>\n",
              "    <tr>\n",
              "      <th>Response</th>\n",
              "      <td>StormAccum_mm</td>\n",
              "      <td>0.417438</td>\n",
              "    </tr>\n",
              "  </tbody>\n",
              "</table>\n",
              "</div>\n",
              "    <div class=\"colab-df-buttons\">\n",
              "\n",
              "  <div class=\"colab-df-container\">\n",
              "    <button class=\"colab-df-convert\" onclick=\"convertToInteractive('df-f6ec142b-654e-4980-a4dc-b647307bf5ff')\"\n",
              "            title=\"Convert this dataframe to an interactive table.\"\n",
              "            style=\"display:none;\">\n",
              "\n",
              "  <svg xmlns=\"http://www.w3.org/2000/svg\" height=\"24px\" viewBox=\"0 -960 960 960\">\n",
              "    <path d=\"M120-120v-720h720v720H120Zm60-500h600v-160H180v160Zm220 220h160v-160H400v160Zm0 220h160v-160H400v160ZM180-400h160v-160H180v160Zm440 0h160v-160H620v160ZM180-180h160v-160H180v160Zm440 0h160v-160H620v160Z\"/>\n",
              "  </svg>\n",
              "    </button>\n",
              "\n",
              "  <style>\n",
              "    .colab-df-container {\n",
              "      display:flex;\n",
              "      gap: 12px;\n",
              "    }\n",
              "\n",
              "    .colab-df-convert {\n",
              "      background-color: #E8F0FE;\n",
              "      border: none;\n",
              "      border-radius: 50%;\n",
              "      cursor: pointer;\n",
              "      display: none;\n",
              "      fill: #1967D2;\n",
              "      height: 32px;\n",
              "      padding: 0 0 0 0;\n",
              "      width: 32px;\n",
              "    }\n",
              "\n",
              "    .colab-df-convert:hover {\n",
              "      background-color: #E2EBFA;\n",
              "      box-shadow: 0px 1px 2px rgba(60, 64, 67, 0.3), 0px 1px 3px 1px rgba(60, 64, 67, 0.15);\n",
              "      fill: #174EA6;\n",
              "    }\n",
              "\n",
              "    .colab-df-buttons div {\n",
              "      margin-bottom: 4px;\n",
              "    }\n",
              "\n",
              "    [theme=dark] .colab-df-convert {\n",
              "      background-color: #3B4455;\n",
              "      fill: #D2E3FC;\n",
              "    }\n",
              "\n",
              "    [theme=dark] .colab-df-convert:hover {\n",
              "      background-color: #434B5C;\n",
              "      box-shadow: 0px 1px 3px 1px rgba(0, 0, 0, 0.15);\n",
              "      filter: drop-shadow(0px 1px 2px rgba(0, 0, 0, 0.3));\n",
              "      fill: #FFFFFF;\n",
              "    }\n",
              "  </style>\n",
              "\n",
              "    <script>\n",
              "      const buttonEl =\n",
              "        document.querySelector('#df-f6ec142b-654e-4980-a4dc-b647307bf5ff button.colab-df-convert');\n",
              "      buttonEl.style.display =\n",
              "        google.colab.kernel.accessAllowed ? 'block' : 'none';\n",
              "\n",
              "      async function convertToInteractive(key) {\n",
              "        const element = document.querySelector('#df-f6ec142b-654e-4980-a4dc-b647307bf5ff');\n",
              "        const dataTable =\n",
              "          await google.colab.kernel.invokeFunction('convertToInteractive',\n",
              "                                                    [key], {});\n",
              "        if (!dataTable) return;\n",
              "\n",
              "        const docLinkHtml = 'Like what you see? Visit the ' +\n",
              "          '<a target=\"_blank\" href=https://colab.research.google.com/notebooks/data_table.ipynb>data table notebook</a>'\n",
              "          + ' to learn more about interactive tables.';\n",
              "        element.innerHTML = '';\n",
              "        dataTable['output_type'] = 'display_data';\n",
              "        await google.colab.output.renderOutput(dataTable, element);\n",
              "        const docLink = document.createElement('div');\n",
              "        docLink.innerHTML = docLinkHtml;\n",
              "        element.appendChild(docLink);\n",
              "      }\n",
              "    </script>\n",
              "  </div>\n",
              "\n",
              "\n",
              "<div id=\"df-41278df6-3ab4-4509-92df-fa6683c7fa93\">\n",
              "  <button class=\"colab-df-quickchart\" onclick=\"quickchart('df-41278df6-3ab4-4509-92df-fa6683c7fa93')\"\n",
              "            title=\"Suggest charts\"\n",
              "            style=\"display:none;\">\n",
              "\n",
              "<svg xmlns=\"http://www.w3.org/2000/svg\" height=\"24px\"viewBox=\"0 0 24 24\"\n",
              "     width=\"24px\">\n",
              "    <g>\n",
              "        <path d=\"M19 3H5c-1.1 0-2 .9-2 2v14c0 1.1.9 2 2 2h14c1.1 0 2-.9 2-2V5c0-1.1-.9-2-2-2zM9 17H7v-7h2v7zm4 0h-2V7h2v10zm4 0h-2v-4h2v4z\"/>\n",
              "    </g>\n",
              "</svg>\n",
              "  </button>\n",
              "\n",
              "<style>\n",
              "  .colab-df-quickchart {\n",
              "      --bg-color: #E8F0FE;\n",
              "      --fill-color: #1967D2;\n",
              "      --hover-bg-color: #E2EBFA;\n",
              "      --hover-fill-color: #174EA6;\n",
              "      --disabled-fill-color: #AAA;\n",
              "      --disabled-bg-color: #DDD;\n",
              "  }\n",
              "\n",
              "  [theme=dark] .colab-df-quickchart {\n",
              "      --bg-color: #3B4455;\n",
              "      --fill-color: #D2E3FC;\n",
              "      --hover-bg-color: #434B5C;\n",
              "      --hover-fill-color: #FFFFFF;\n",
              "      --disabled-bg-color: #3B4455;\n",
              "      --disabled-fill-color: #666;\n",
              "  }\n",
              "\n",
              "  .colab-df-quickchart {\n",
              "    background-color: var(--bg-color);\n",
              "    border: none;\n",
              "    border-radius: 50%;\n",
              "    cursor: pointer;\n",
              "    display: none;\n",
              "    fill: var(--fill-color);\n",
              "    height: 32px;\n",
              "    padding: 0;\n",
              "    width: 32px;\n",
              "  }\n",
              "\n",
              "  .colab-df-quickchart:hover {\n",
              "    background-color: var(--hover-bg-color);\n",
              "    box-shadow: 0 1px 2px rgba(60, 64, 67, 0.3), 0 1px 3px 1px rgba(60, 64, 67, 0.15);\n",
              "    fill: var(--button-hover-fill-color);\n",
              "  }\n",
              "\n",
              "  .colab-df-quickchart-complete:disabled,\n",
              "  .colab-df-quickchart-complete:disabled:hover {\n",
              "    background-color: var(--disabled-bg-color);\n",
              "    fill: var(--disabled-fill-color);\n",
              "    box-shadow: none;\n",
              "  }\n",
              "\n",
              "  .colab-df-spinner {\n",
              "    border: 2px solid var(--fill-color);\n",
              "    border-color: transparent;\n",
              "    border-bottom-color: var(--fill-color);\n",
              "    animation:\n",
              "      spin 1s steps(1) infinite;\n",
              "  }\n",
              "\n",
              "  @keyframes spin {\n",
              "    0% {\n",
              "      border-color: transparent;\n",
              "      border-bottom-color: var(--fill-color);\n",
              "      border-left-color: var(--fill-color);\n",
              "    }\n",
              "    20% {\n",
              "      border-color: transparent;\n",
              "      border-left-color: var(--fill-color);\n",
              "      border-top-color: var(--fill-color);\n",
              "    }\n",
              "    30% {\n",
              "      border-color: transparent;\n",
              "      border-left-color: var(--fill-color);\n",
              "      border-top-color: var(--fill-color);\n",
              "      border-right-color: var(--fill-color);\n",
              "    }\n",
              "    40% {\n",
              "      border-color: transparent;\n",
              "      border-right-color: var(--fill-color);\n",
              "      border-top-color: var(--fill-color);\n",
              "    }\n",
              "    60% {\n",
              "      border-color: transparent;\n",
              "      border-right-color: var(--fill-color);\n",
              "    }\n",
              "    80% {\n",
              "      border-color: transparent;\n",
              "      border-right-color: var(--fill-color);\n",
              "      border-bottom-color: var(--fill-color);\n",
              "    }\n",
              "    90% {\n",
              "      border-color: transparent;\n",
              "      border-bottom-color: var(--fill-color);\n",
              "    }\n",
              "  }\n",
              "</style>\n",
              "\n",
              "  <script>\n",
              "    async function quickchart(key) {\n",
              "      const quickchartButtonEl =\n",
              "        document.querySelector('#' + key + ' button');\n",
              "      quickchartButtonEl.disabled = true;  // To prevent multiple clicks.\n",
              "      quickchartButtonEl.classList.add('colab-df-spinner');\n",
              "      try {\n",
              "        const charts = await google.colab.kernel.invokeFunction(\n",
              "            'suggestCharts', [key], {});\n",
              "      } catch (error) {\n",
              "        console.error('Error during call to suggestCharts:', error);\n",
              "      }\n",
              "      quickchartButtonEl.classList.remove('colab-df-spinner');\n",
              "      quickchartButtonEl.classList.add('colab-df-quickchart-complete');\n",
              "    }\n",
              "    (() => {\n",
              "      let quickchartButtonEl =\n",
              "        document.querySelector('#df-41278df6-3ab4-4509-92df-fa6683c7fa93 button');\n",
              "      quickchartButtonEl.style.display =\n",
              "        google.colab.kernel.accessAllowed ? 'block' : 'none';\n",
              "    })();\n",
              "  </script>\n",
              "</div>\n",
              "\n",
              "    </div>\n",
              "  </div>\n"
            ],
            "application/vnd.google.colaboratory.intrinsic+json": {
              "type": "dataframe",
              "summary": "{\n  \"name\": \"corr[::2]\",\n  \"rows\": 5,\n  \"fields\": [\n    {\n      \"column\": \"feature\",\n      \"properties\": {\n        \"dtype\": \"string\",\n        \"num_unique_values\": 3,\n        \"samples\": [\n          \"StormAvgI_mm/h\",\n          \"StormAccum_mm\",\n          \"dNBR/1000\"\n        ],\n        \"semantic_type\": \"\",\n        \"description\": \"\"\n      }\n    },\n    {\n      \"column\": \"correlation\",\n      \"properties\": {\n        \"dtype\": \"number\",\n        \"std\": 0.12647633149544446,\n        \"min\": 0.4174375897462498,\n        \"max\": 0.7108450845656561,\n        \"num_unique_values\": 4,\n        \"samples\": [\n          0.5582368155017264,\n          0.4174375897462498,\n          0.7108450845656561\n        ],\n        \"semantic_type\": \"\",\n        \"description\": \"\"\n      }\n    }\n  ]\n}"
            }
          },
          "metadata": {},
          "execution_count": 20
        }
      ]
    },
    {
      "cell_type": "markdown",
      "source": [
        "### Feature distributions"
      ],
      "metadata": {
        "id": "wcBzibgdwqMT"
      }
    },
    {
      "cell_type": "markdown",
      "metadata": {
        "id": "ynxVDheX4d1S"
      },
      "source": [
        "## Fit GNBayes"
      ]
    },
    {
      "cell_type": "markdown",
      "source": [
        "### Cross validation"
      ],
      "metadata": {
        "id": "4cUiJdQPxQcy"
      }
    },
    {
      "cell_type": "code",
      "source": [
        "gnb = GaussianNB()"
      ],
      "metadata": {
        "id": "Qo23XIaSthAc"
      },
      "execution_count": null,
      "outputs": []
    },
    {
      "cell_type": "code",
      "source": [
        "X_train, X_test, y_train, y_test = train_test_split(X, y, test_size=0.20, random_state=0)\n",
        "gnb.fit(X_train, y_train)\n",
        "y_pred = gnb.predict(X_test)\n",
        "print(\"Number of mislabeled points out of a total %d points : %d\"\n",
        "      % (X_test.shape[0], (y_test != y_pred).sum()))\n",
        "\n",
        "# print(f\"Number of mislabeled points out of a total {X_test.shape[0]} points : {(y_test != y_pred).sum()}\""
      ],
      "metadata": {
        "colab": {
          "base_uri": "https://localhost:8080/"
        },
        "id": "5qTGQF6FtPWE",
        "outputId": "d174a3bb-30cf-4bb7-b759-23b760f17f0c"
      },
      "execution_count": null,
      "outputs": [
        {
          "output_type": "stream",
          "name": "stdout",
          "text": [
            "Number of mislabeled points out of a total 310 points : 65\n"
          ]
        }
      ]
    },
    {
      "cell_type": "code",
      "source": [
        "1-3283/36000"
      ],
      "metadata": {
        "colab": {
          "base_uri": "https://localhost:8080/"
        },
        "id": "HUrGF0S_tn1p",
        "outputId": "7e36d5c3-7b91-4855-fef8-d1999f8ff805"
      },
      "execution_count": null,
      "outputs": [
        {
          "output_type": "execute_result",
          "data": {
            "text/plain": [
              "0.9088055555555555"
            ]
          },
          "metadata": {},
          "execution_count": 23
        }
      ]
    },
    {
      "cell_type": "code",
      "source": [
        "def cross_validate(X, y, num_loops):\n",
        "  \"\"\"Randomly splits X and y values into train/test groups (test size = 20%).\n",
        "  Creates a GaussianNB model.\n",
        "  Returns a numpy array of accuracy scores for the tests.\n",
        "  \"\"\"\n",
        "\n",
        "  accuracy_scores = np.zeros(num_loops)\n",
        "\n",
        "  for i in range(num_loops):\n",
        "    model_split_cv = GaussianNB()\n",
        "    X_train, X_test, y_train, y_test = model_selection.train_test_split(X, y, test_size = 0.2)\n",
        "    model_split_cv.fit(X_train, y_train)\n",
        "    y_split_pred = model_split_cv.predict(X_test)\n",
        "    accuracy_scores[i] = metrics.accuracy_score(y_test, y_split_pred)\n",
        "\n",
        "  return accuracy_scores"
      ],
      "metadata": {
        "id": "mql-nk0vtsSp"
      },
      "execution_count": null,
      "outputs": []
    },
    {
      "cell_type": "code",
      "source": [
        "accuracy_scores = cross_validate(X, y, 10)\n",
        "print(round(accuracy_scores.mean(), 5))"
      ],
      "metadata": {
        "colab": {
          "base_uri": "https://localhost:8080/"
        },
        "id": "KwXd6QXUtyL-",
        "outputId": "3888b7fb-be55-4d10-f0e9-d8897dc5720c"
      },
      "execution_count": null,
      "outputs": [
        {
          "output_type": "stream",
          "name": "stdout",
          "text": [
            "0.81968\n"
          ]
        }
      ]
    },
    {
      "cell_type": "markdown",
      "source": [
        "### Confusion matrix"
      ],
      "metadata": {
        "id": "tUtsKRscxDWM"
      }
    },
    {
      "cell_type": "code",
      "execution_count": null,
      "metadata": {
        "id": "XOCUHecctjHP",
        "colab": {
          "base_uri": "https://localhost:8080/",
          "height": 472
        },
        "outputId": "0ef2feb4-4c2b-4a68-8ab3-6edda7da0e6e"
      },
      "outputs": [
        {
          "output_type": "display_data",
          "data": {
            "text/plain": [
              "<Figure size 640x480 with 2 Axes>"
            ],
            "image/png": "[encoded data removed]"
          },
          "metadata": {}
        }
      ],
      "source": [
        "metrics.ConfusionMatrixDisplay.from_estimator(\n",
        "    gnb,\n",
        "    X_test,\n",
        "    y_test,\n",
        "    normalize = 'true',\n",
        "    values_format = '.2%',\n",
        "    cmap = 'GnBu',\n",
        "    )\n",
        "plt.grid(False)\n",
        "plt.title('Confusion matrix 1') ;\n",
        "plt.savefig('confusion_M.png')"
      ]
    },
    {
      "cell_type": "code",
      "source": [],
      "metadata": {
        "id": "WuN7MaeouASY"
      },
      "execution_count": null,
      "outputs": []
    },
    {
      "cell_type": "markdown",
      "metadata": {
        "id": "2uewctONuBeB"
      },
      "source": [
        "We are often predicting that someone does not have diabetes even if they do. What can we do to combat this?"
      ]
    },
    {
      "cell_type": "markdown",
      "source": [
        "### Balance classes"
      ],
      "metadata": {
        "id": "T49vENt7xfsN"
      }
    },
    {
      "cell_type": "code",
      "execution_count": null,
      "metadata": {
        "id": "NkrgWL3IuGyM"
      },
      "outputs": [],
      "source": [
        "# Let's balance our classes\n",
        "clime_balanced = clime.groupby('Response').sample(n = 334, replace = False)"
      ]
    },
    {
      "cell_type": "code",
      "execution_count": null,
      "metadata": {
        "id": "es3zPMQNuV70",
        "colab": {
          "base_uri": "https://localhost:8080/",
          "height": 178
        },
        "outputId": "f0fc46cf-bc75-4916-82bb-ab9d4259feb9"
      },
      "outputs": [
        {
          "output_type": "execute_result",
          "data": {
            "text/plain": [
              "Response\n",
              "0    334\n",
              "1    334\n",
              "Name: count, dtype: int64"
            ],
            "text/html": [
              "<div>\n",
              "<style scoped>\n",
              "    .dataframe tbody tr th:only-of-type {\n",
              "        vertical-align: middle;\n",
              "    }\n",
              "\n",
              "    .dataframe tbody tr th {\n",
              "        vertical-align: top;\n",
              "    }\n",
              "\n",
              "    .dataframe thead th {\n",
              "        text-align: right;\n",
              "    }\n",
              "</style>\n",
              "<table border=\"1\" class=\"dataframe\">\n",
              "  <thead>\n",
              "    <tr style=\"text-align: right;\">\n",
              "      <th></th>\n",
              "      <th>count</th>\n",
              "    </tr>\n",
              "    <tr>\n",
              "      <th>Response</th>\n",
              "      <th></th>\n",
              "    </tr>\n",
              "  </thead>\n",
              "  <tbody>\n",
              "    <tr>\n",
              "      <th>0</th>\n",
              "      <td>334</td>\n",
              "    </tr>\n",
              "    <tr>\n",
              "      <th>1</th>\n",
              "      <td>334</td>\n",
              "    </tr>\n",
              "  </tbody>\n",
              "</table>\n",
              "</div><br><label><b>dtype:</b> int64</label>"
            ]
          },
          "metadata": {},
          "execution_count": 28
        }
      ],
      "source": [
        "clime_balanced['Response'].value_counts( dropna = False)"
      ]
    },
    {
      "cell_type": "code",
      "execution_count": null,
      "metadata": {
        "id": "fzH089CtuaKP"
      },
      "outputs": [],
      "source": [
        "C = clime_balanced['Response'].copy()\n",
        "D = clime_balanced.drop('Response',axis=1).copy()"
      ]
    },
    {
      "cell_type": "markdown",
      "source": [
        "### Cross validation"
      ],
      "metadata": {
        "id": "DNIEr3_5xzE9"
      }
    },
    {
      "cell_type": "code",
      "execution_count": null,
      "metadata": {
        "id": "TBHcyazhucio"
      },
      "outputs": [],
      "source": [
        "def cross_validate(x, Y, num_loops):\n",
        "  \"\"\"Randomly splits X and y values into train/test groups (test size = 20%).\n",
        "  Creates a GaussianNB model.\n",
        "  Returns a numpy array of accuracy scores for the tests.\n",
        "  \"\"\"\n",
        "\n",
        "  accuracy_scores = np.zeros(num_loops)\n",
        "\n",
        "  for i in range(num_loops):\n",
        "    model_split_cv = GaussianNB()\n",
        "    C_train, D_test, y_train, y_test = model_selection.train_test_split(D, C, test_size = 0.2)\n",
        "    model_split_cv.fit(C_train, y_train)\n",
        "    y_split_pred = model_split_cv.predict(D_test)\n",
        "    accuracy_scores[i] = metrics.accuracy_score(y_test, y_split_pred)\n",
        "\n",
        "  return accuracy_scores"
      ]
    },
    {
      "cell_type": "code",
      "source": [
        "accuracy = cross_validate(C, D, 500)\n",
        "print(round(accuracy_scores.mean(), 3))"
      ],
      "metadata": {
        "colab": {
          "base_uri": "https://localhost:8080/"
        },
        "id": "5HWt8iSrvC7h",
        "outputId": "75ddf49e-68f9-4280-98c5-664cf2067dfe"
      },
      "execution_count": null,
      "outputs": [
        {
          "output_type": "stream",
          "name": "stdout",
          "text": [
            "0.82\n"
          ]
        }
      ]
    },
    {
      "cell_type": "code",
      "source": [
        "C_train, D_test, y_train, y_test = train_test_split(D, C, test_size=0.20, random_state=0)\n",
        "gnb.fit(C_train, y_train)\n",
        "y_pred = gnb.predict(D_test)\n",
        "print(\"Number of mislabeled points out of a total %d points : %d\"\n",
        "      % (D_test.shape[0], (y_test != y_pred).sum()))\n",
        "\n",
        "# print(f\"Number of mislabeled points out of a total {X_test.shape[0]} points : {(y_test != y_pred).sum()}\""
      ],
      "metadata": {
        "colab": {
          "base_uri": "https://localhost:8080/"
        },
        "id": "bQrIKcpevSGY",
        "outputId": "2f0613b1-dc05-41f5-b43e-2e6296610aab"
      },
      "execution_count": null,
      "outputs": [
        {
          "output_type": "stream",
          "name": "stdout",
          "text": [
            "Number of mislabeled points out of a total 134 points : 48\n"
          ]
        }
      ]
    },
    {
      "cell_type": "markdown",
      "source": [
        "### Confusion matrix"
      ],
      "metadata": {
        "id": "rSYBmqMNx1le"
      }
    },
    {
      "cell_type": "markdown",
      "source": [
        "Let's look at the confusion matrix using the last validation run\n"
      ],
      "metadata": {
        "id": "zs8ca7cm6cOE"
      }
    },
    {
      "cell_type": "code",
      "execution_count": null,
      "metadata": {
        "id": "7_uhA56UueXA",
        "colab": {
          "base_uri": "https://localhost:8080/",
          "height": 472
        },
        "outputId": "cad95b9b-845f-40ea-e05b-6f5c47a49be5"
      },
      "outputs": [
        {
          "output_type": "display_data",
          "data": {
            "text/plain": [
              "<Figure size 640x480 with 2 Axes>"
            ],
            "image/png": "[encoded data removed]"
          },
          "metadata": {}
        }
      ],
      "source": [
        "metrics.ConfusionMatrixDisplay.from_estimator(\n",
        "    gnb,\n",
        "    D_test,\n",
        "    y_test,\n",
        "    normalize = 'true',\n",
        "    values_format = '.2%',\n",
        "    cmap = 'GnBu',\n",
        "    )\n",
        "plt.grid(False)\n",
        "plt.title('Confusion matrix 2') ;\n",
        "plt.savefig('confusion_matrix.png')"
      ]
    },
    {
      "cell_type": "code",
      "source": [
        "from sklearn.metrics import classification_report\n",
        "print(classification_report(y_test, y_pred))"
      ],
      "metadata": {
        "id": "nD6ZMV9099P7",
        "colab": {
          "base_uri": "https://localhost:8080/"
        },
        "outputId": "4b9c9f82-dc98-4127-fab5-d5ce144bbe39"
      },
      "execution_count": null,
      "outputs": [
        {
          "output_type": "stream",
          "name": "stdout",
          "text": [
            "              precision    recall  f1-score   support\n",
            "\n",
            "           0       0.60      0.91      0.72        68\n",
            "           1       0.80      0.36      0.50        66\n",
            "\n",
            "    accuracy                           0.64       134\n",
            "   macro avg       0.70      0.64      0.61       134\n",
            "weighted avg       0.70      0.64      0.61       134\n",
            "\n"
          ]
        }
      ]
    },
    {
      "cell_type": "code",
      "source": [
        "predict_accuracy = metrics.accuracy_score( y_test, y_pred )\n",
        "predict_f1 = metrics.f1_score( y_test, y_pred )\n",
        "\n",
        "print(f\"Mean Accuracy: {predict_accuracy*100:.1f}%\")\n",
        "print(f\"F1 Score: {predict_f1*100:.1f}%\")"
      ],
      "metadata": {
        "colab": {
          "base_uri": "https://localhost:8080/"
        },
        "id": "a6zHtmcO-YyN",
        "outputId": "c6536d0d-5268-456f-f69d-db7e3f9f76c0"
      },
      "execution_count": null,
      "outputs": [
        {
          "output_type": "stream",
          "name": "stdout",
          "text": [
            "Mean Accuracy: 64.2%\n",
            "F1 Score: 50.0%\n"
          ]
        }
      ]
    },
    {
      "cell_type": "code",
      "source": [
        "plt.hist(accuracy)\n",
        "plt.title('Frequency of accuracy scores for cross-validation for 30 min')\n",
        "plt.show()"
      ],
      "metadata": {
        "id": "KxBPqjwuv7pX",
        "outputId": "09dae926-72b9-479c-ce93-d98eb28dfce6",
        "colab": {
          "base_uri": "https://localhost:8080/",
          "height": 452
        }
      },
      "execution_count": null,
      "outputs": [
        {
          "output_type": "display_data",
          "data": {
            "text/plain": [
              "<Figure size 640x480 with 1 Axes>"
            ],
            "image/png": "[encoded data removed]"
          },
          "metadata": {}
        }
      ]
    },
    {
      "cell_type": "code",
      "source": [],
      "metadata": {
        "id": "k_AgUjS2v8Ei"
      },
      "execution_count": null,
      "outputs": []
    }
  ],
  "metadata": {
    "colab": {
      "provenance": [],
      "include_colab_link": true
    },
    "kernelspec": {
      "display_name": "Python 3",
      "name": "python3"
    }
  },
  "nbformat": 4,
  "nbformat_minor": 0
}