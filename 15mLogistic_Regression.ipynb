{
  "cells": [
    {
      "cell_type": "markdown",
      "metadata": {
        "id": "view-in-github",
        "colab_type": "text"
      },
      "source": [
        "<a href=\"https://colab.research.google.com/github/Wilkingc/Forecasting-Post-Fire-Debris-Flow/blob/main/15mLogistic_Regression.ipynb\" target=\"_parent\"><img src=\"https://colab.research.google.com/assets/colab-badge.svg\" alt=\"Open In Colab\"/></a>"
      ]
    },
    {
      "cell_type": "markdown",
      "source": [
        "# Logistic regression"
      ],
      "metadata": {
        "id": "yj6ylS2jvGbv"
      }
    },
    {
      "cell_type": "markdown",
      "source": [
        "## Imports\n"
      ],
      "metadata": {
        "id": "hFUQYdN6vEYg"
      }
    },
    {
      "cell_type": "code",
      "execution_count": null,
      "metadata": {
        "id": "-PW2HdnZsGTt"
      },
      "outputs": [],
      "source": [
        "import pandas as pd\n",
        "import numpy as np\n",
        "import matplotlib.pyplot as plt\n",
        "import seaborn as sns\n",
        "from sklearn.preprocessing import StandardScaler\n",
        "import sklearn.model_selection as model_selection\n",
        "from sklearn import metrics\n",
        "from sklearn.linear_model import LogisticRegression\n",
        "from sklearn.metrics import confusion_matrix, ConfusionMatrixDisplay, roc_curve, auc\n"
      ]
    },
    {
      "cell_type": "code",
      "source": [],
      "metadata": {
        "id": "Px0EtAsRuWrc"
      },
      "execution_count": null,
      "outputs": []
    },
    {
      "cell_type": "code",
      "source": [
        "from google.colab import drive\n",
        "drive.mount('/content/drive')"
      ],
      "metadata": {
        "colab": {
          "base_uri": "https://localhost:8080/"
        },
        "id": "tyxVV03ruZWM",
        "outputId": "4653e672-ee77-488f-b926-b0303f4a7fb9"
      },
      "execution_count": null,
      "outputs": [
        {
          "output_type": "stream",
          "name": "stdout",
          "text": [
            "Mounted at /content/drive\n"
          ]
        }
      ]
    },
    {
      "cell_type": "code",
      "execution_count": null,
      "metadata": {
        "id": "shMA1Phltg34"
      },
      "outputs": [],
      "source": [
        "url =  ('/content/drive/MyDrive/Flood Capstone/USGS_Logistic_Regression_DS.xlsx')\n",
        "data = pd.read_excel(url, sheet_name = 1)"
      ]
    },
    {
      "cell_type": "markdown",
      "source": [
        "## Read in the data\n",
        "\n"
      ],
      "metadata": {
        "id": "41tcb6Lgvicz"
      }
    },
    {
      "cell_type": "markdown",
      "source": [
        "Notice that the data set does not have column names.  So, we will create our own and include them when we create the data frame.\n"
      ],
      "metadata": {
        "id": "NWqll7yXvmPP"
      }
    },
    {
      "cell_type": "code",
      "source": [
        "clime = data.copy()"
      ],
      "metadata": {
        "id": "TohPamWVsHcB"
      },
      "execution_count": null,
      "outputs": []
    },
    {
      "cell_type": "code",
      "source": [
        "pd.set_option('display.max_columns', None)"
      ],
      "metadata": {
        "id": "o-jUTtE8hroS"
      },
      "execution_count": null,
      "outputs": []
    },
    {
      "cell_type": "code",
      "execution_count": null,
      "metadata": {
        "id": "Sk6ZJ0Uc1G0M",
        "colab": {
          "base_uri": "https://localhost:8080/",
          "height": 417
        },
        "outputId": "a4aaf34c-4dff-4e85-f956-5505f91eb456"
      },
      "outputs": [
        {
          "output_type": "execute_result",
          "data": {
            "text/plain": [
              "  Fire Name  Year Fire_ID Fire_SegID  Database State  UTM_Zone        UTM_X  \\\n",
              "0  Buckweed  2007     bck   bck_1035  Training    CA        11  368133.5165   \n",
              "1  Buckweed  2007     bck   bck_1090  Training    CA        11  367871.0165   \n",
              "2  Buckweed  2007     bck   bck_1570  Training    CA        11  367503.5165   \n",
              "3  Buckweed  2007     bck    bck_235  Training    CA        11  371108.5165   \n",
              "4  Buckweed  2007     bck    bck_363  Training    CA        11  370763.5165   \n",
              "\n",
              "         UTM_Y  Response            StormDate  GaugeDist_m  \\\n",
              "0  3823231.989         0  2008-01-22 00:00:00      1998.67   \n",
              "1  3822984.489         0  2008-01-22 00:00:00      2368.93   \n",
              "2  3821741.989         0  2008-01-22 00:00:00      3956.74   \n",
              "3  3824991.989         0  2008-01-22 00:00:00      1734.72   \n",
              "4  3824576.989         0  2008-01-22 00:00:00      1801.04   \n",
              "\n",
              "           StormStart            StormEnd  StormDur_H  StormAccum_mm  \\\n",
              "0 2008-01-21 16:27:00 2008-01-22 19:20:00      26.883            5.4   \n",
              "1 2008-01-21 16:27:00 2008-01-22 19:20:00      26.883            5.4   \n",
              "2 2008-01-21 16:27:00 2008-01-22 19:20:00      26.883            5.4   \n",
              "3 2008-01-21 15:47:00 2008-01-22 19:39:00      27.883            3.0   \n",
              "4 2008-01-21 15:47:00 2008-01-22 19:39:00      27.883            3.0   \n",
              "\n",
              "   StormAvgI_mm/h  Peak_I15_mm/h  Peak_I30_mm/h  Peak_I60_mm/h  \\\n",
              "0            0.20            3.2            2.0            2.0   \n",
              "1            0.20            3.2            2.0            2.0   \n",
              "2            0.20            3.2            2.0            2.0   \n",
              "3            0.11            1.6            1.2            0.8   \n",
              "4            0.11            1.6            1.2            0.8   \n",
              "\n",
              "   ContributingArea_km2  PropHM23  dNBR/1000        KF  Acc015_mm  Acc030_mm  \\\n",
              "0              0.378767  0.217933   0.297853  0.250000        0.8        1.0   \n",
              "1              0.689615  0.061249   0.224896  0.250000        0.8        1.0   \n",
              "2              2.757312  0.042968   0.065537  0.248541        0.8        1.0   \n",
              "3              0.613415  0.092164   0.141711  0.250000        0.4        0.6   \n",
              "4              0.538875  0.058353   0.210158  0.250000        0.4        0.6   \n",
              "\n",
              "   Acc060_mm  \n",
              "0        2.0  \n",
              "1        2.0  \n",
              "2        2.0  \n",
              "3        0.8  \n",
              "4        0.8  "
            ],
            "text/html": [
              "\n",
              "  <div id=\"df-2ad243ac-07ca-4075-8ec8-96faa8fa298f\" class=\"colab-df-container\">\n",
              "    <div>\n",
              "<style scoped>\n",
              "    .dataframe tbody tr th:only-of-type {\n",
              "        vertical-align: middle;\n",
              "    }\n",
              "\n",
              "    .dataframe tbody tr th {\n",
              "        vertical-align: top;\n",
              "    }\n",
              "\n",
              "    .dataframe thead th {\n",
              "        text-align: right;\n",
              "    }\n",
              "</style>\n",
              "<table border=\"1\" class=\"dataframe\">\n",
              "  <thead>\n",
              "    <tr style=\"text-align: right;\">\n",
              "      <th></th>\n",
              "      <th>Fire Name</th>\n",
              "      <th>Year</th>\n",
              "      <th>Fire_ID</th>\n",
              "      <th>Fire_SegID</th>\n",
              "      <th>Database</th>\n",
              "      <th>State</th>\n",
              "      <th>UTM_Zone</th>\n",
              "      <th>UTM_X</th>\n",
              "      <th>UTM_Y</th>\n",
              "      <th>Response</th>\n",
              "      <th>StormDate</th>\n",
              "      <th>GaugeDist_m</th>\n",
              "      <th>StormStart</th>\n",
              "      <th>StormEnd</th>\n",
              "      <th>StormDur_H</th>\n",
              "      <th>StormAccum_mm</th>\n",
              "      <th>StormAvgI_mm/h</th>\n",
              "      <th>Peak_I15_mm/h</th>\n",
              "      <th>Peak_I30_mm/h</th>\n",
              "      <th>Peak_I60_mm/h</th>\n",
              "      <th>ContributingArea_km2</th>\n",
              "      <th>PropHM23</th>\n",
              "      <th>dNBR/1000</th>\n",
              "      <th>KF</th>\n",
              "      <th>Acc015_mm</th>\n",
              "      <th>Acc030_mm</th>\n",
              "      <th>Acc060_mm</th>\n",
              "    </tr>\n",
              "  </thead>\n",
              "  <tbody>\n",
              "    <tr>\n",
              "      <th>0</th>\n",
              "      <td>Buckweed</td>\n",
              "      <td>2007</td>\n",
              "      <td>bck</td>\n",
              "      <td>bck_1035</td>\n",
              "      <td>Training</td>\n",
              "      <td>CA</td>\n",
              "      <td>11</td>\n",
              "      <td>368133.5165</td>\n",
              "      <td>3823231.989</td>\n",
              "      <td>0</td>\n",
              "      <td>2008-01-22 00:00:00</td>\n",
              "      <td>1998.67</td>\n",
              "      <td>2008-01-21 16:27:00</td>\n",
              "      <td>2008-01-22 19:20:00</td>\n",
              "      <td>26.883</td>\n",
              "      <td>5.4</td>\n",
              "      <td>0.20</td>\n",
              "      <td>3.2</td>\n",
              "      <td>2.0</td>\n",
              "      <td>2.0</td>\n",
              "      <td>0.378767</td>\n",
              "      <td>0.217933</td>\n",
              "      <td>0.297853</td>\n",
              "      <td>0.250000</td>\n",
              "      <td>0.8</td>\n",
              "      <td>1.0</td>\n",
              "      <td>2.0</td>\n",
              "    </tr>\n",
              "    <tr>\n",
              "      <th>1</th>\n",
              "      <td>Buckweed</td>\n",
              "      <td>2007</td>\n",
              "      <td>bck</td>\n",
              "      <td>bck_1090</td>\n",
              "      <td>Training</td>\n",
              "      <td>CA</td>\n",
              "      <td>11</td>\n",
              "      <td>367871.0165</td>\n",
              "      <td>3822984.489</td>\n",
              "      <td>0</td>\n",
              "      <td>2008-01-22 00:00:00</td>\n",
              "      <td>2368.93</td>\n",
              "      <td>2008-01-21 16:27:00</td>\n",
              "      <td>2008-01-22 19:20:00</td>\n",
              "      <td>26.883</td>\n",
              "      <td>5.4</td>\n",
              "      <td>0.20</td>\n",
              "      <td>3.2</td>\n",
              "      <td>2.0</td>\n",
              "      <td>2.0</td>\n",
              "      <td>0.689615</td>\n",
              "      <td>0.061249</td>\n",
              "      <td>0.224896</td>\n",
              "      <td>0.250000</td>\n",
              "      <td>0.8</td>\n",
              "      <td>1.0</td>\n",
              "      <td>2.0</td>\n",
              "    </tr>\n",
              "    <tr>\n",
              "      <th>2</th>\n",
              "      <td>Buckweed</td>\n",
              "      <td>2007</td>\n",
              "      <td>bck</td>\n",
              "      <td>bck_1570</td>\n",
              "      <td>Training</td>\n",
              "      <td>CA</td>\n",
              "      <td>11</td>\n",
              "      <td>367503.5165</td>\n",
              "      <td>3821741.989</td>\n",
              "      <td>0</td>\n",
              "      <td>2008-01-22 00:00:00</td>\n",
              "      <td>3956.74</td>\n",
              "      <td>2008-01-21 16:27:00</td>\n",
              "      <td>2008-01-22 19:20:00</td>\n",
              "      <td>26.883</td>\n",
              "      <td>5.4</td>\n",
              "      <td>0.20</td>\n",
              "      <td>3.2</td>\n",
              "      <td>2.0</td>\n",
              "      <td>2.0</td>\n",
              "      <td>2.757312</td>\n",
              "      <td>0.042968</td>\n",
              "      <td>0.065537</td>\n",
              "      <td>0.248541</td>\n",
              "      <td>0.8</td>\n",
              "      <td>1.0</td>\n",
              "      <td>2.0</td>\n",
              "    </tr>\n",
              "    <tr>\n",
              "      <th>3</th>\n",
              "      <td>Buckweed</td>\n",
              "      <td>2007</td>\n",
              "      <td>bck</td>\n",
              "      <td>bck_235</td>\n",
              "      <td>Training</td>\n",
              "      <td>CA</td>\n",
              "      <td>11</td>\n",
              "      <td>371108.5165</td>\n",
              "      <td>3824991.989</td>\n",
              "      <td>0</td>\n",
              "      <td>2008-01-22 00:00:00</td>\n",
              "      <td>1734.72</td>\n",
              "      <td>2008-01-21 15:47:00</td>\n",
              "      <td>2008-01-22 19:39:00</td>\n",
              "      <td>27.883</td>\n",
              "      <td>3.0</td>\n",
              "      <td>0.11</td>\n",
              "      <td>1.6</td>\n",
              "      <td>1.2</td>\n",
              "      <td>0.8</td>\n",
              "      <td>0.613415</td>\n",
              "      <td>0.092164</td>\n",
              "      <td>0.141711</td>\n",
              "      <td>0.250000</td>\n",
              "      <td>0.4</td>\n",
              "      <td>0.6</td>\n",
              "      <td>0.8</td>\n",
              "    </tr>\n",
              "    <tr>\n",
              "      <th>4</th>\n",
              "      <td>Buckweed</td>\n",
              "      <td>2007</td>\n",
              "      <td>bck</td>\n",
              "      <td>bck_363</td>\n",
              "      <td>Training</td>\n",
              "      <td>CA</td>\n",
              "      <td>11</td>\n",
              "      <td>370763.5165</td>\n",
              "      <td>3824576.989</td>\n",
              "      <td>0</td>\n",
              "      <td>2008-01-22 00:00:00</td>\n",
              "      <td>1801.04</td>\n",
              "      <td>2008-01-21 15:47:00</td>\n",
              "      <td>2008-01-22 19:39:00</td>\n",
              "      <td>27.883</td>\n",
              "      <td>3.0</td>\n",
              "      <td>0.11</td>\n",
              "      <td>1.6</td>\n",
              "      <td>1.2</td>\n",
              "      <td>0.8</td>\n",
              "      <td>0.538875</td>\n",
              "      <td>0.058353</td>\n",
              "      <td>0.210158</td>\n",
              "      <td>0.250000</td>\n",
              "      <td>0.4</td>\n",
              "      <td>0.6</td>\n",
              "      <td>0.8</td>\n",
              "    </tr>\n",
              "  </tbody>\n",
              "</table>\n",
              "</div>\n",
              "    <div class=\"colab-df-buttons\">\n",
              "\n",
              "  <div class=\"colab-df-container\">\n",
              "    <button class=\"colab-df-convert\" onclick=\"convertToInteractive('df-2ad243ac-07ca-4075-8ec8-96faa8fa298f')\"\n",
              "            title=\"Convert this dataframe to an interactive table.\"\n",
              "            style=\"display:none;\">\n",
              "\n",
              "  <svg xmlns=\"http://www.w3.org/2000/svg\" height=\"24px\" viewBox=\"0 -960 960 960\">\n",
              "    <path d=\"M120-120v-720h720v720H120Zm60-500h600v-160H180v160Zm220 220h160v-160H400v160Zm0 220h160v-160H400v160ZM180-400h160v-160H180v160Zm440 0h160v-160H620v160ZM180-180h160v-160H180v160Zm440 0h160v-160H620v160Z\"/>\n",
              "  </svg>\n",
              "    </button>\n",
              "\n",
              "  <style>\n",
              "    .colab-df-container {\n",
              "      display:flex;\n",
              "      gap: 12px;\n",
              "    }\n",
              "\n",
              "    .colab-df-convert {\n",
              "      background-color: #E8F0FE;\n",
              "      border: none;\n",
              "      border-radius: 50%;\n",
              "      cursor: pointer;\n",
              "      display: none;\n",
              "      fill: #1967D2;\n",
              "      height: 32px;\n",
              "      padding: 0 0 0 0;\n",
              "      width: 32px;\n",
              "    }\n",
              "\n",
              "    .colab-df-convert:hover {\n",
              "      background-color: #E2EBFA;\n",
              "      box-shadow: 0px 1px 2px rgba(60, 64, 67, 0.3), 0px 1px 3px 1px rgba(60, 64, 67, 0.15);\n",
              "      fill: #174EA6;\n",
              "    }\n",
              "\n",
              "    .colab-df-buttons div {\n",
              "      margin-bottom: 4px;\n",
              "    }\n",
              "\n",
              "    [theme=dark] .colab-df-convert {\n",
              "      background-color: #3B4455;\n",
              "      fill: #D2E3FC;\n",
              "    }\n",
              "\n",
              "    [theme=dark] .colab-df-convert:hover {\n",
              "      background-color: #434B5C;\n",
              "      box-shadow: 0px 1px 3px 1px rgba(0, 0, 0, 0.15);\n",
              "      filter: drop-shadow(0px 1px 2px rgba(0, 0, 0, 0.3));\n",
              "      fill: #FFFFFF;\n",
              "    }\n",
              "  </style>\n",
              "\n",
              "    <script>\n",
              "      const buttonEl =\n",
              "        document.querySelector('#df-2ad243ac-07ca-4075-8ec8-96faa8fa298f button.colab-df-convert');\n",
              "      buttonEl.style.display =\n",
              "        google.colab.kernel.accessAllowed ? 'block' : 'none';\n",
              "\n",
              "      async function convertToInteractive(key) {\n",
              "        const element = document.querySelector('#df-2ad243ac-07ca-4075-8ec8-96faa8fa298f');\n",
              "        const dataTable =\n",
              "          await google.colab.kernel.invokeFunction('convertToInteractive',\n",
              "                                                    [key], {});\n",
              "        if (!dataTable) return;\n",
              "\n",
              "        const docLinkHtml = 'Like what you see? Visit the ' +\n",
              "          '<a target=\"_blank\" href=https://colab.research.google.com/notebooks/data_table.ipynb>data table notebook</a>'\n",
              "          + ' to learn more about interactive tables.';\n",
              "        element.innerHTML = '';\n",
              "        dataTable['output_type'] = 'display_data';\n",
              "        await google.colab.output.renderOutput(dataTable, element);\n",
              "        const docLink = document.createElement('div');\n",
              "        docLink.innerHTML = docLinkHtml;\n",
              "        element.appendChild(docLink);\n",
              "      }\n",
              "    </script>\n",
              "  </div>\n",
              "\n",
              "\n",
              "<div id=\"df-46eddbc4-a780-4921-b07a-ddcfea72ef92\">\n",
              "  <button class=\"colab-df-quickchart\" onclick=\"quickchart('df-46eddbc4-a780-4921-b07a-ddcfea72ef92')\"\n",
              "            title=\"Suggest charts\"\n",
              "            style=\"display:none;\">\n",
              "\n",
              "<svg xmlns=\"http://www.w3.org/2000/svg\" height=\"24px\"viewBox=\"0 0 24 24\"\n",
              "     width=\"24px\">\n",
              "    <g>\n",
              "        <path d=\"M19 3H5c-1.1 0-2 .9-2 2v14c0 1.1.9 2 2 2h14c1.1 0 2-.9 2-2V5c0-1.1-.9-2-2-2zM9 17H7v-7h2v7zm4 0h-2V7h2v10zm4 0h-2v-4h2v4z\"/>\n",
              "    </g>\n",
              "</svg>\n",
              "  </button>\n",
              "\n",
              "<style>\n",
              "  .colab-df-quickchart {\n",
              "      --bg-color: #E8F0FE;\n",
              "      --fill-color: #1967D2;\n",
              "      --hover-bg-color: #E2EBFA;\n",
              "      --hover-fill-color: #174EA6;\n",
              "      --disabled-fill-color: #AAA;\n",
              "      --disabled-bg-color: #DDD;\n",
              "  }\n",
              "\n",
              "  [theme=dark] .colab-df-quickchart {\n",
              "      --bg-color: #3B4455;\n",
              "      --fill-color: #D2E3FC;\n",
              "      --hover-bg-color: #434B5C;\n",
              "      --hover-fill-color: #FFFFFF;\n",
              "      --disabled-bg-color: #3B4455;\n",
              "      --disabled-fill-color: #666;\n",
              "  }\n",
              "\n",
              "  .colab-df-quickchart {\n",
              "    background-color: var(--bg-color);\n",
              "    border: none;\n",
              "    border-radius: 50%;\n",
              "    cursor: pointer;\n",
              "    display: none;\n",
              "    fill: var(--fill-color);\n",
              "    height: 32px;\n",
              "    padding: 0;\n",
              "    width: 32px;\n",
              "  }\n",
              "\n",
              "  .colab-df-quickchart:hover {\n",
              "    background-color: var(--hover-bg-color);\n",
              "    box-shadow: 0 1px 2px rgba(60, 64, 67, 0.3), 0 1px 3px 1px rgba(60, 64, 67, 0.15);\n",
              "    fill: var(--button-hover-fill-color);\n",
              "  }\n",
              "\n",
              "  .colab-df-quickchart-complete:disabled,\n",
              "  .colab-df-quickchart-complete:disabled:hover {\n",
              "    background-color: var(--disabled-bg-color);\n",
              "    fill: var(--disabled-fill-color);\n",
              "    box-shadow: none;\n",
              "  }\n",
              "\n",
              "  .colab-df-spinner {\n",
              "    border: 2px solid var(--fill-color);\n",
              "    border-color: transparent;\n",
              "    border-bottom-color: var(--fill-color);\n",
              "    animation:\n",
              "      spin 1s steps(1) infinite;\n",
              "  }\n",
              "\n",
              "  @keyframes spin {\n",
              "    0% {\n",
              "      border-color: transparent;\n",
              "      border-bottom-color: var(--fill-color);\n",
              "      border-left-color: var(--fill-color);\n",
              "    }\n",
              "    20% {\n",
              "      border-color: transparent;\n",
              "      border-left-color: var(--fill-color);\n",
              "      border-top-color: var(--fill-color);\n",
              "    }\n",
              "    30% {\n",
              "      border-color: transparent;\n",
              "      border-left-color: var(--fill-color);\n",
              "      border-top-color: var(--fill-color);\n",
              "      border-right-color: var(--fill-color);\n",
              "    }\n",
              "    40% {\n",
              "      border-color: transparent;\n",
              "      border-right-color: var(--fill-color);\n",
              "      border-top-color: var(--fill-color);\n",
              "    }\n",
              "    60% {\n",
              "      border-color: transparent;\n",
              "      border-right-color: var(--fill-color);\n",
              "    }\n",
              "    80% {\n",
              "      border-color: transparent;\n",
              "      border-right-color: var(--fill-color);\n",
              "      border-bottom-color: var(--fill-color);\n",
              "    }\n",
              "    90% {\n",
              "      border-color: transparent;\n",
              "      border-bottom-color: var(--fill-color);\n",
              "    }\n",
              "  }\n",
              "</style>\n",
              "\n",
              "  <script>\n",
              "    async function quickchart(key) {\n",
              "      const quickchartButtonEl =\n",
              "        document.querySelector('#' + key + ' button');\n",
              "      quickchartButtonEl.disabled = true;  // To prevent multiple clicks.\n",
              "      quickchartButtonEl.classList.add('colab-df-spinner');\n",
              "      try {\n",
              "        const charts = await google.colab.kernel.invokeFunction(\n",
              "            'suggestCharts', [key], {});\n",
              "      } catch (error) {\n",
              "        console.error('Error during call to suggestCharts:', error);\n",
              "      }\n",
              "      quickchartButtonEl.classList.remove('colab-df-spinner');\n",
              "      quickchartButtonEl.classList.add('colab-df-quickchart-complete');\n",
              "    }\n",
              "    (() => {\n",
              "      let quickchartButtonEl =\n",
              "        document.querySelector('#df-46eddbc4-a780-4921-b07a-ddcfea72ef92 button');\n",
              "      quickchartButtonEl.style.display =\n",
              "        google.colab.kernel.accessAllowed ? 'block' : 'none';\n",
              "    })();\n",
              "  </script>\n",
              "</div>\n",
              "\n",
              "    </div>\n",
              "  </div>\n"
            ],
            "application/vnd.google.colaboratory.intrinsic+json": {
              "type": "dataframe",
              "variable_name": "clime"
            }
          },
          "metadata": {},
          "execution_count": 9
        }
      ],
      "source": [
        "clime.head()"
      ]
    },
    {
      "cell_type": "code",
      "execution_count": null,
      "metadata": {
        "id": "So5TnO6y4jQH",
        "colab": {
          "base_uri": "https://localhost:8080/"
        },
        "outputId": "31b00211-0699-4b4d-d4e4-c216a21ca109"
      },
      "outputs": [
        {
          "output_type": "execute_result",
          "data": {
            "text/plain": [
              "(1550, 27)"
            ]
          },
          "metadata": {},
          "execution_count": 10
        }
      ],
      "source": [
        "clime.shape"
      ]
    },
    {
      "cell_type": "code",
      "source": [
        "clime.info()"
      ],
      "metadata": {
        "id": "RHbfHBSCY8cY",
        "colab": {
          "base_uri": "https://localhost:8080/"
        },
        "outputId": "932d8000-da40-430f-9028-b793d7a25120",
        "collapsed": true
      },
      "execution_count": null,
      "outputs": [
        {
          "output_type": "stream",
          "name": "stdout",
          "text": [
            "<class 'pandas.core.frame.DataFrame'>\n",
            "RangeIndex: 1550 entries, 0 to 1549\n",
            "Data columns (total 27 columns):\n",
            " #   Column                Non-Null Count  Dtype         \n",
            "---  ------                --------------  -----         \n",
            " 0   Fire Name             1550 non-null   object        \n",
            " 1   Year                  1550 non-null   int64         \n",
            " 2   Fire_ID               1550 non-null   object        \n",
            " 3   Fire_SegID            1550 non-null   object        \n",
            " 4   Database              1550 non-null   object        \n",
            " 5   State                 1550 non-null   object        \n",
            " 6   UTM_Zone              1550 non-null   int64         \n",
            " 7   UTM_X                 1550 non-null   float64       \n",
            " 8   UTM_Y                 1550 non-null   float64       \n",
            " 9   Response              1550 non-null   int64         \n",
            " 10  StormDate             1550 non-null   object        \n",
            " 11  GaugeDist_m           1550 non-null   float64       \n",
            " 12  StormStart            1390 non-null   datetime64[ns]\n",
            " 13  StormEnd              1390 non-null   datetime64[ns]\n",
            " 14  StormDur_H            1550 non-null   float64       \n",
            " 15  StormAccum_mm         1550 non-null   float64       \n",
            " 16  StormAvgI_mm/h        1550 non-null   float64       \n",
            " 17  Peak_I15_mm/h         1320 non-null   float64       \n",
            " 18  Peak_I30_mm/h         1336 non-null   float64       \n",
            " 19  Peak_I60_mm/h         1294 non-null   float64       \n",
            " 20  ContributingArea_km2  1550 non-null   float64       \n",
            " 21  PropHM23              1550 non-null   float64       \n",
            " 22  dNBR/1000             1473 non-null   float64       \n",
            " 23  KF                    1550 non-null   float64       \n",
            " 24  Acc015_mm             1320 non-null   float64       \n",
            " 25  Acc030_mm             1336 non-null   float64       \n",
            " 26  Acc060_mm             1294 non-null   float64       \n",
            "dtypes: datetime64[ns](2), float64(16), int64(3), object(6)\n",
            "memory usage: 327.1+ KB\n"
          ]
        }
      ]
    },
    {
      "cell_type": "code",
      "source": [
        "clime = clime.drop(['Fire Name','Fire_ID','Fire_SegID','Database','State','StormDate','StormStart','StormEnd','UTM_X','UTM_Y','Peak_I30_mm/h','Peak_I60_mm/h','Acc030_mm','Acc060_mm'], axis = 1 )"
      ],
      "metadata": {
        "id": "-iwvFdu-v4j5"
      },
      "execution_count": null,
      "outputs": []
    },
    {
      "cell_type": "code",
      "source": [
        "clime.describe().transpose()"
      ],
      "metadata": {
        "id": "nXUOdlF-1-5B",
        "colab": {
          "base_uri": "https://localhost:8080/",
          "height": 457
        },
        "outputId": "b94da81d-b3c7-4a01-c4e6-9a1c1e70683b"
      },
      "execution_count": null,
      "outputs": [
        {
          "output_type": "execute_result",
          "data": {
            "text/plain": [
              "                       count         mean          std          min  \\\n",
              "Year                  1550.0  2006.933548     3.466538  2000.000000   \n",
              "UTM_Zone              1550.0    11.616129     0.836003    11.000000   \n",
              "Response              1550.0     0.215484     0.411290     0.000000   \n",
              "GaugeDist_m           1550.0  1958.996196  1071.810282    27.843965   \n",
              "StormDur_H            1550.0    18.446009    18.507975     0.000000   \n",
              "StormAccum_mm         1550.0    34.971515    38.374910     0.000000   \n",
              "StormAvgI_mm/h        1550.0     4.877449     9.364335     0.000000   \n",
              "Peak_I15_mm/h         1320.0    23.821315    21.259860     1.600000   \n",
              "ContributingArea_km2  1550.0     1.047743     1.537803     0.020100   \n",
              "PropHM23              1550.0     0.478713     0.276017     0.000000   \n",
              "dNBR/1000             1473.0     0.340318     0.189386     0.007158   \n",
              "KF                    1550.0     0.233063     0.427766     0.000000   \n",
              "Acc015_mm             1320.0     5.955329     5.314965     0.400000   \n",
              "\n",
              "                              25%          50%          75%          max  \n",
              "Year                  2003.000000  2009.000000  2009.000000  2012.000000  \n",
              "UTM_Zone                11.000000    11.000000    12.000000    13.000000  \n",
              "Response                 0.000000     0.000000     0.000000     1.000000  \n",
              "GaugeDist_m           1037.460000  1913.675000  2811.027500  3999.300000  \n",
              "StormDur_H               2.000000    14.300000    27.137500    65.000000  \n",
              "StormAccum_mm            8.380000    22.000000    51.200000   222.250000  \n",
              "StormAvgI_mm/h           0.615758     1.960000     4.237463    58.670143  \n",
              "Peak_I15_mm/h           10.400000    16.800000    27.574000   112.000000  \n",
              "ContributingArea_km2     0.108485     0.435986     1.308229     7.888105  \n",
              "PropHM23                 0.233447     0.523288     0.692406     0.989526  \n",
              "dNBR/1000                0.193488     0.311481     0.461550     0.997439  \n",
              "KF                       0.150000     0.239361     0.260000    11.360418  \n",
              "Acc015_mm                2.600000     4.200000     6.893500    28.000000  "
            ],
            "text/html": [
              "\n",
              "  <div id=\"df-8cd24fb7-2acd-4563-b34a-8d394f7485f9\" class=\"colab-df-container\">\n",
              "    <div>\n",
              "<style scoped>\n",
              "    .dataframe tbody tr th:only-of-type {\n",
              "        vertical-align: middle;\n",
              "    }\n",
              "\n",
              "    .dataframe tbody tr th {\n",
              "        vertical-align: top;\n",
              "    }\n",
              "\n",
              "    .dataframe thead th {\n",
              "        text-align: right;\n",
              "    }\n",
              "</style>\n",
              "<table border=\"1\" class=\"dataframe\">\n",
              "  <thead>\n",
              "    <tr style=\"text-align: right;\">\n",
              "      <th></th>\n",
              "      <th>count</th>\n",
              "      <th>mean</th>\n",
              "      <th>std</th>\n",
              "      <th>min</th>\n",
              "      <th>25%</th>\n",
              "      <th>50%</th>\n",
              "      <th>75%</th>\n",
              "      <th>max</th>\n",
              "    </tr>\n",
              "  </thead>\n",
              "  <tbody>\n",
              "    <tr>\n",
              "      <th>Year</th>\n",
              "      <td>1550.0</td>\n",
              "      <td>2006.933548</td>\n",
              "      <td>3.466538</td>\n",
              "      <td>2000.000000</td>\n",
              "      <td>2003.000000</td>\n",
              "      <td>2009.000000</td>\n",
              "      <td>2009.000000</td>\n",
              "      <td>2012.000000</td>\n",
              "    </tr>\n",
              "    <tr>\n",
              "      <th>UTM_Zone</th>\n",
              "      <td>1550.0</td>\n",
              "      <td>11.616129</td>\n",
              "      <td>0.836003</td>\n",
              "      <td>11.000000</td>\n",
              "      <td>11.000000</td>\n",
              "      <td>11.000000</td>\n",
              "      <td>12.000000</td>\n",
              "      <td>13.000000</td>\n",
              "    </tr>\n",
              "    <tr>\n",
              "      <th>Response</th>\n",
              "      <td>1550.0</td>\n",
              "      <td>0.215484</td>\n",
              "      <td>0.411290</td>\n",
              "      <td>0.000000</td>\n",
              "      <td>0.000000</td>\n",
              "      <td>0.000000</td>\n",
              "      <td>0.000000</td>\n",
              "      <td>1.000000</td>\n",
              "    </tr>\n",
              "    <tr>\n",
              "      <th>GaugeDist_m</th>\n",
              "      <td>1550.0</td>\n",
              "      <td>1958.996196</td>\n",
              "      <td>1071.810282</td>\n",
              "      <td>27.843965</td>\n",
              "      <td>1037.460000</td>\n",
              "      <td>1913.675000</td>\n",
              "      <td>2811.027500</td>\n",
              "      <td>3999.300000</td>\n",
              "    </tr>\n",
              "    <tr>\n",
              "      <th>StormDur_H</th>\n",
              "      <td>1550.0</td>\n",
              "      <td>18.446009</td>\n",
              "      <td>18.507975</td>\n",
              "      <td>0.000000</td>\n",
              "      <td>2.000000</td>\n",
              "      <td>14.300000</td>\n",
              "      <td>27.137500</td>\n",
              "      <td>65.000000</td>\n",
              "    </tr>\n",
              "    <tr>\n",
              "      <th>StormAccum_mm</th>\n",
              "      <td>1550.0</td>\n",
              "      <td>34.971515</td>\n",
              "      <td>38.374910</td>\n",
              "      <td>0.000000</td>\n",
              "      <td>8.380000</td>\n",
              "      <td>22.000000</td>\n",
              "      <td>51.200000</td>\n",
              "      <td>222.250000</td>\n",
              "    </tr>\n",
              "    <tr>\n",
              "      <th>StormAvgI_mm/h</th>\n",
              "      <td>1550.0</td>\n",
              "      <td>4.877449</td>\n",
              "      <td>9.364335</td>\n",
              "      <td>0.000000</td>\n",
              "      <td>0.615758</td>\n",
              "      <td>1.960000</td>\n",
              "      <td>4.237463</td>\n",
              "      <td>58.670143</td>\n",
              "    </tr>\n",
              "    <tr>\n",
              "      <th>Peak_I15_mm/h</th>\n",
              "      <td>1320.0</td>\n",
              "      <td>23.821315</td>\n",
              "      <td>21.259860</td>\n",
              "      <td>1.600000</td>\n",
              "      <td>10.400000</td>\n",
              "      <td>16.800000</td>\n",
              "      <td>27.574000</td>\n",
              "      <td>112.000000</td>\n",
              "    </tr>\n",
              "    <tr>\n",
              "      <th>ContributingArea_km2</th>\n",
              "      <td>1550.0</td>\n",
              "      <td>1.047743</td>\n",
              "      <td>1.537803</td>\n",
              "      <td>0.020100</td>\n",
              "      <td>0.108485</td>\n",
              "      <td>0.435986</td>\n",
              "      <td>1.308229</td>\n",
              "      <td>7.888105</td>\n",
              "    </tr>\n",
              "    <tr>\n",
              "      <th>PropHM23</th>\n",
              "      <td>1550.0</td>\n",
              "      <td>0.478713</td>\n",
              "      <td>0.276017</td>\n",
              "      <td>0.000000</td>\n",
              "      <td>0.233447</td>\n",
              "      <td>0.523288</td>\n",
              "      <td>0.692406</td>\n",
              "      <td>0.989526</td>\n",
              "    </tr>\n",
              "    <tr>\n",
              "      <th>dNBR/1000</th>\n",
              "      <td>1473.0</td>\n",
              "      <td>0.340318</td>\n",
              "      <td>0.189386</td>\n",
              "      <td>0.007158</td>\n",
              "      <td>0.193488</td>\n",
              "      <td>0.311481</td>\n",
              "      <td>0.461550</td>\n",
              "      <td>0.997439</td>\n",
              "    </tr>\n",
              "    <tr>\n",
              "      <th>KF</th>\n",
              "      <td>1550.0</td>\n",
              "      <td>0.233063</td>\n",
              "      <td>0.427766</td>\n",
              "      <td>0.000000</td>\n",
              "      <td>0.150000</td>\n",
              "      <td>0.239361</td>\n",
              "      <td>0.260000</td>\n",
              "      <td>11.360418</td>\n",
              "    </tr>\n",
              "    <tr>\n",
              "      <th>Acc015_mm</th>\n",
              "      <td>1320.0</td>\n",
              "      <td>5.955329</td>\n",
              "      <td>5.314965</td>\n",
              "      <td>0.400000</td>\n",
              "      <td>2.600000</td>\n",
              "      <td>4.200000</td>\n",
              "      <td>6.893500</td>\n",
              "      <td>28.000000</td>\n",
              "    </tr>\n",
              "  </tbody>\n",
              "</table>\n",
              "</div>\n",
              "    <div class=\"colab-df-buttons\">\n",
              "\n",
              "  <div class=\"colab-df-container\">\n",
              "    <button class=\"colab-df-convert\" onclick=\"convertToInteractive('df-8cd24fb7-2acd-4563-b34a-8d394f7485f9')\"\n",
              "            title=\"Convert this dataframe to an interactive table.\"\n",
              "            style=\"display:none;\">\n",
              "\n",
              "  <svg xmlns=\"http://www.w3.org/2000/svg\" height=\"24px\" viewBox=\"0 -960 960 960\">\n",
              "    <path d=\"M120-120v-720h720v720H120Zm60-500h600v-160H180v160Zm220 220h160v-160H400v160Zm0 220h160v-160H400v160ZM180-400h160v-160H180v160Zm440 0h160v-160H620v160ZM180-180h160v-160H180v160Zm440 0h160v-160H620v160Z\"/>\n",
              "  </svg>\n",
              "    </button>\n",
              "\n",
              "  <style>\n",
              "    .colab-df-container {\n",
              "      display:flex;\n",
              "      gap: 12px;\n",
              "    }\n",
              "\n",
              "    .colab-df-convert {\n",
              "      background-color: #E8F0FE;\n",
              "      border: none;\n",
              "      border-radius: 50%;\n",
              "      cursor: pointer;\n",
              "      display: none;\n",
              "      fill: #1967D2;\n",
              "      height: 32px;\n",
              "      padding: 0 0 0 0;\n",
              "      width: 32px;\n",
              "    }\n",
              "\n",
              "    .colab-df-convert:hover {\n",
              "      background-color: #E2EBFA;\n",
              "      box-shadow: 0px 1px 2px rgba(60, 64, 67, 0.3), 0px 1px 3px 1px rgba(60, 64, 67, 0.15);\n",
              "      fill: #174EA6;\n",
              "    }\n",
              "\n",
              "    .colab-df-buttons div {\n",
              "      margin-bottom: 4px;\n",
              "    }\n",
              "\n",
              "    [theme=dark] .colab-df-convert {\n",
              "      background-color: #3B4455;\n",
              "      fill: #D2E3FC;\n",
              "    }\n",
              "\n",
              "    [theme=dark] .colab-df-convert:hover {\n",
              "      background-color: #434B5C;\n",
              "      box-shadow: 0px 1px 3px 1px rgba(0, 0, 0, 0.15);\n",
              "      filter: drop-shadow(0px 1px 2px rgba(0, 0, 0, 0.3));\n",
              "      fill: #FFFFFF;\n",
              "    }\n",
              "  </style>\n",
              "\n",
              "    <script>\n",
              "      const buttonEl =\n",
              "        document.querySelector('#df-8cd24fb7-2acd-4563-b34a-8d394f7485f9 button.colab-df-convert');\n",
              "      buttonEl.style.display =\n",
              "        google.colab.kernel.accessAllowed ? 'block' : 'none';\n",
              "\n",
              "      async function convertToInteractive(key) {\n",
              "        const element = document.querySelector('#df-8cd24fb7-2acd-4563-b34a-8d394f7485f9');\n",
              "        const dataTable =\n",
              "          await google.colab.kernel.invokeFunction('convertToInteractive',\n",
              "                                                    [key], {});\n",
              "        if (!dataTable) return;\n",
              "\n",
              "        const docLinkHtml = 'Like what you see? Visit the ' +\n",
              "          '<a target=\"_blank\" href=https://colab.research.google.com/notebooks/data_table.ipynb>data table notebook</a>'\n",
              "          + ' to learn more about interactive tables.';\n",
              "        element.innerHTML = '';\n",
              "        dataTable['output_type'] = 'display_data';\n",
              "        await google.colab.output.renderOutput(dataTable, element);\n",
              "        const docLink = document.createElement('div');\n",
              "        docLink.innerHTML = docLinkHtml;\n",
              "        element.appendChild(docLink);\n",
              "      }\n",
              "    </script>\n",
              "  </div>\n",
              "\n",
              "\n",
              "<div id=\"df-90a534c5-2714-48d7-81b3-c8c435ff219a\">\n",
              "  <button class=\"colab-df-quickchart\" onclick=\"quickchart('df-90a534c5-2714-48d7-81b3-c8c435ff219a')\"\n",
              "            title=\"Suggest charts\"\n",
              "            style=\"display:none;\">\n",
              "\n",
              "<svg xmlns=\"http://www.w3.org/2000/svg\" height=\"24px\"viewBox=\"0 0 24 24\"\n",
              "     width=\"24px\">\n",
              "    <g>\n",
              "        <path d=\"M19 3H5c-1.1 0-2 .9-2 2v14c0 1.1.9 2 2 2h14c1.1 0 2-.9 2-2V5c0-1.1-.9-2-2-2zM9 17H7v-7h2v7zm4 0h-2V7h2v10zm4 0h-2v-4h2v4z\"/>\n",
              "    </g>\n",
              "</svg>\n",
              "  </button>\n",
              "\n",
              "<style>\n",
              "  .colab-df-quickchart {\n",
              "      --bg-color: #E8F0FE;\n",
              "      --fill-color: #1967D2;\n",
              "      --hover-bg-color: #E2EBFA;\n",
              "      --hover-fill-color: #174EA6;\n",
              "      --disabled-fill-color: #AAA;\n",
              "      --disabled-bg-color: #DDD;\n",
              "  }\n",
              "\n",
              "  [theme=dark] .colab-df-quickchart {\n",
              "      --bg-color: #3B4455;\n",
              "      --fill-color: #D2E3FC;\n",
              "      --hover-bg-color: #434B5C;\n",
              "      --hover-fill-color: #FFFFFF;\n",
              "      --disabled-bg-color: #3B4455;\n",
              "      --disabled-fill-color: #666;\n",
              "  }\n",
              "\n",
              "  .colab-df-quickchart {\n",
              "    background-color: var(--bg-color);\n",
              "    border: none;\n",
              "    border-radius: 50%;\n",
              "    cursor: pointer;\n",
              "    display: none;\n",
              "    fill: var(--fill-color);\n",
              "    height: 32px;\n",
              "    padding: 0;\n",
              "    width: 32px;\n",
              "  }\n",
              "\n",
              "  .colab-df-quickchart:hover {\n",
              "    background-color: var(--hover-bg-color);\n",
              "    box-shadow: 0 1px 2px rgba(60, 64, 67, 0.3), 0 1px 3px 1px rgba(60, 64, 67, 0.15);\n",
              "    fill: var(--button-hover-fill-color);\n",
              "  }\n",
              "\n",
              "  .colab-df-quickchart-complete:disabled,\n",
              "  .colab-df-quickchart-complete:disabled:hover {\n",
              "    background-color: var(--disabled-bg-color);\n",
              "    fill: var(--disabled-fill-color);\n",
              "    box-shadow: none;\n",
              "  }\n",
              "\n",
              "  .colab-df-spinner {\n",
              "    border: 2px solid var(--fill-color);\n",
              "    border-color: transparent;\n",
              "    border-bottom-color: var(--fill-color);\n",
              "    animation:\n",
              "      spin 1s steps(1) infinite;\n",
              "  }\n",
              "\n",
              "  @keyframes spin {\n",
              "    0% {\n",
              "      border-color: transparent;\n",
              "      border-bottom-color: var(--fill-color);\n",
              "      border-left-color: var(--fill-color);\n",
              "    }\n",
              "    20% {\n",
              "      border-color: transparent;\n",
              "      border-left-color: var(--fill-color);\n",
              "      border-top-color: var(--fill-color);\n",
              "    }\n",
              "    30% {\n",
              "      border-color: transparent;\n",
              "      border-left-color: var(--fill-color);\n",
              "      border-top-color: var(--fill-color);\n",
              "      border-right-color: var(--fill-color);\n",
              "    }\n",
              "    40% {\n",
              "      border-color: transparent;\n",
              "      border-right-color: var(--fill-color);\n",
              "      border-top-color: var(--fill-color);\n",
              "    }\n",
              "    60% {\n",
              "      border-color: transparent;\n",
              "      border-right-color: var(--fill-color);\n",
              "    }\n",
              "    80% {\n",
              "      border-color: transparent;\n",
              "      border-right-color: var(--fill-color);\n",
              "      border-bottom-color: var(--fill-color);\n",
              "    }\n",
              "    90% {\n",
              "      border-color: transparent;\n",
              "      border-bottom-color: var(--fill-color);\n",
              "    }\n",
              "  }\n",
              "</style>\n",
              "\n",
              "  <script>\n",
              "    async function quickchart(key) {\n",
              "      const quickchartButtonEl =\n",
              "        document.querySelector('#' + key + ' button');\n",
              "      quickchartButtonEl.disabled = true;  // To prevent multiple clicks.\n",
              "      quickchartButtonEl.classList.add('colab-df-spinner');\n",
              "      try {\n",
              "        const charts = await google.colab.kernel.invokeFunction(\n",
              "            'suggestCharts', [key], {});\n",
              "      } catch (error) {\n",
              "        console.error('Error during call to suggestCharts:', error);\n",
              "      }\n",
              "      quickchartButtonEl.classList.remove('colab-df-spinner');\n",
              "      quickchartButtonEl.classList.add('colab-df-quickchart-complete');\n",
              "    }\n",
              "    (() => {\n",
              "      let quickchartButtonEl =\n",
              "        document.querySelector('#df-90a534c5-2714-48d7-81b3-c8c435ff219a button');\n",
              "      quickchartButtonEl.style.display =\n",
              "        google.colab.kernel.accessAllowed ? 'block' : 'none';\n",
              "    })();\n",
              "  </script>\n",
              "</div>\n",
              "\n",
              "    </div>\n",
              "  </div>\n"
            ],
            "application/vnd.google.colaboratory.intrinsic+json": {
              "type": "dataframe",
              "summary": "{\n  \"name\": \"clime\",\n  \"rows\": 13,\n  \"fields\": [\n    {\n      \"column\": \"count\",\n      \"properties\": {\n        \"dtype\": \"number\",\n        \"std\": 86.38420439658381,\n        \"min\": 1320.0,\n        \"max\": 1550.0,\n        \"num_unique_values\": 3,\n        \"samples\": [\n          1550.0,\n          1320.0,\n          1473.0\n        ],\n        \"semantic_type\": \"\",\n        \"description\": \"\"\n      }\n    },\n    {\n      \"column\": \"mean\",\n      \"properties\": {\n        \"dtype\": \"number\",\n        \"std\": 741.3302114033621,\n        \"min\": 0.21548387096774194,\n        \"max\": 2006.9335483870968,\n        \"num_unique_values\": 13,\n        \"samples\": [\n          0.2330627109032258,\n          0.4787132947612903,\n          2006.9335483870968\n        ],\n        \"semantic_type\": \"\",\n        \"description\": \"\"\n      }\n    },\n    {\n      \"column\": \"std\",\n      \"properties\": {\n        \"dtype\": \"number\",\n        \"std\": 295.177319388852,\n        \"min\": 0.1893861393803068,\n        \"max\": 1071.8102816661735,\n        \"num_unique_values\": 13,\n        \"samples\": [\n          0.42776614682089487,\n          0.276017249149054,\n          3.4665379558760274\n        ],\n        \"semantic_type\": \"\",\n        \"description\": \"\"\n      }\n    },\n    {\n      \"column\": \"min\",\n      \"properties\": {\n        \"dtype\": \"number\",\n        \"std\": 553.8127271811364,\n        \"min\": 0.0,\n        \"max\": 2000.0,\n        \"num_unique_values\": 8,\n        \"samples\": [\n          11.0,\n          0.0201,\n          2000.0\n        ],\n        \"semantic_type\": \"\",\n        \"description\": \"\"\n      }\n    },\n    {\n      \"column\": \"25%\",\n      \"properties\": {\n        \"dtype\": \"number\",\n        \"std\": 602.8230231417518,\n        \"min\": 0.0,\n        \"max\": 2003.0,\n        \"num_unique_values\": 13,\n        \"samples\": [\n          0.1500001,\n          0.23344689375,\n          2003.0\n        ],\n        \"semantic_type\": \"\",\n        \"description\": \"\"\n      }\n    },\n    {\n      \"column\": \"50%\",\n      \"properties\": {\n        \"dtype\": \"number\",\n        \"std\": 734.392811635129,\n        \"min\": 0.0,\n        \"max\": 2009.0,\n        \"num_unique_values\": 13,\n        \"samples\": [\n          0.2393612,\n          0.5232880785,\n          2009.0\n        ],\n        \"semantic_type\": \"\",\n        \"description\": \"\"\n      }\n    },\n    {\n      \"column\": \"75%\",\n      \"properties\": {\n        \"dtype\": \"number\",\n        \"std\": 915.4285896904066,\n        \"min\": 0.0,\n        \"max\": 2811.0275,\n        \"num_unique_values\": 13,\n        \"samples\": [\n          0.26,\n          0.6924057195,\n          2009.0\n        ],\n        \"semantic_type\": \"\",\n        \"description\": \"\"\n      }\n    },\n    {\n      \"column\": \"max\",\n      \"properties\": {\n        \"dtype\": \"number\",\n        \"std\": 1184.2987142181835,\n        \"min\": 0.989525528,\n        \"max\": 3999.3,\n        \"num_unique_values\": 13,\n        \"samples\": [\n          11.3604183,\n          0.989525528,\n          2012.0\n        ],\n        \"semantic_type\": \"\",\n        \"description\": \"\"\n      }\n    }\n  ]\n}"
            }
          },
          "metadata": {},
          "execution_count": 13
        }
      ]
    },
    {
      "cell_type": "code",
      "execution_count": null,
      "metadata": {
        "id": "KHOVZoGBptXO",
        "colab": {
          "base_uri": "https://localhost:8080/",
          "height": 178
        },
        "outputId": "c76dc858-6582-40b4-d5c9-38099940a054"
      },
      "outputs": [
        {
          "output_type": "execute_result",
          "data": {
            "text/plain": [
              "Response\n",
              "0    1216\n",
              "1     334\n",
              "Name: count, dtype: int64"
            ],
            "text/html": [
              "<div>\n",
              "<style scoped>\n",
              "    .dataframe tbody tr th:only-of-type {\n",
              "        vertical-align: middle;\n",
              "    }\n",
              "\n",
              "    .dataframe tbody tr th {\n",
              "        vertical-align: top;\n",
              "    }\n",
              "\n",
              "    .dataframe thead th {\n",
              "        text-align: right;\n",
              "    }\n",
              "</style>\n",
              "<table border=\"1\" class=\"dataframe\">\n",
              "  <thead>\n",
              "    <tr style=\"text-align: right;\">\n",
              "      <th></th>\n",
              "      <th>count</th>\n",
              "    </tr>\n",
              "    <tr>\n",
              "      <th>Response</th>\n",
              "      <th></th>\n",
              "    </tr>\n",
              "  </thead>\n",
              "  <tbody>\n",
              "    <tr>\n",
              "      <th>0</th>\n",
              "      <td>1216</td>\n",
              "    </tr>\n",
              "    <tr>\n",
              "      <th>1</th>\n",
              "      <td>334</td>\n",
              "    </tr>\n",
              "  </tbody>\n",
              "</table>\n",
              "</div><br><label><b>dtype:</b> int64</label>"
            ]
          },
          "metadata": {},
          "execution_count": 14
        }
      ],
      "source": [
        "clime['Response'].value_counts( dropna = False)\n"
      ]
    },
    {
      "cell_type": "code",
      "source": [
        "clime.info()"
      ],
      "metadata": {
        "colab": {
          "base_uri": "https://localhost:8080/"
        },
        "id": "6ejzpstM17si",
        "outputId": "e9213987-4405-4ab6-ba2d-ac424edad4a0"
      },
      "execution_count": null,
      "outputs": [
        {
          "output_type": "stream",
          "name": "stdout",
          "text": [
            "<class 'pandas.core.frame.DataFrame'>\n",
            "RangeIndex: 1550 entries, 0 to 1549\n",
            "Data columns (total 13 columns):\n",
            " #   Column                Non-Null Count  Dtype  \n",
            "---  ------                --------------  -----  \n",
            " 0   Year                  1550 non-null   int64  \n",
            " 1   UTM_Zone              1550 non-null   int64  \n",
            " 2   Response              1550 non-null   int64  \n",
            " 3   GaugeDist_m           1550 non-null   float64\n",
            " 4   StormDur_H            1550 non-null   float64\n",
            " 5   StormAccum_mm         1550 non-null   float64\n",
            " 6   StormAvgI_mm/h        1550 non-null   float64\n",
            " 7   Peak_I15_mm/h         1320 non-null   float64\n",
            " 8   ContributingArea_km2  1550 non-null   float64\n",
            " 9   PropHM23              1550 non-null   float64\n",
            " 10  dNBR/1000             1473 non-null   float64\n",
            " 11  KF                    1550 non-null   float64\n",
            " 12  Acc015_mm             1320 non-null   float64\n",
            "dtypes: float64(10), int64(3)\n",
            "memory usage: 157.5 KB\n"
          ]
        }
      ]
    },
    {
      "cell_type": "code",
      "source": [
        "def fill_nulls_with_mean(df):\n",
        "  \"\"\"\n",
        "  Replaces null values in a DataFrame with the mean of each column.\n",
        "\n",
        "  Args:\n",
        "    df: The pandas DataFrame to process.\n",
        "\n",
        "  Returns:\n",
        "    A DataFrame with null values replaced by column means.\n",
        "  \"\"\"\n",
        "\n",
        "  for column in df.columns:\n",
        "    column_mean = df[column].mean()\n",
        "    df[column].fillna(column_mean, inplace=True)\n",
        "\n",
        "  return df\n"
      ],
      "metadata": {
        "id": "XDIgqzBu3J35"
      },
      "execution_count": null,
      "outputs": []
    },
    {
      "cell_type": "code",
      "source": [
        "pima = fill_nulls_with_mean(clime)"
      ],
      "metadata": {
        "colab": {
          "base_uri": "https://localhost:8080/"
        },
        "id": "Fm5gGHY33La_",
        "outputId": "8b71bf44-e63d-4407-d447-2141d5bce851"
      },
      "execution_count": null,
      "outputs": [
        {
          "output_type": "stream",
          "name": "stderr",
          "text": [
            "<ipython-input-16-22b674667130>:14: FutureWarning: A value is trying to be set on a copy of a DataFrame or Series through chained assignment using an inplace method.\n",
            "The behavior will change in pandas 3.0. This inplace method will never work because the intermediate object on which we are setting values always behaves as a copy.\n",
            "\n",
            "For example, when doing 'df[col].method(value, inplace=True)', try using 'df.method({col: value}, inplace=True)' or df[col] = df[col].method(value) instead, to perform the operation inplace on the original object.\n",
            "\n",
            "\n",
            "  df[column].fillna(column_mean, inplace=True)\n"
          ]
        }
      ]
    },
    {
      "cell_type": "code",
      "source": [
        "clime.info()"
      ],
      "metadata": {
        "colab": {
          "base_uri": "https://localhost:8080/"
        },
        "id": "QhUXrziu3T7m",
        "outputId": "e4df0f52-a162-4140-bbfc-6bfccec107c2"
      },
      "execution_count": null,
      "outputs": [
        {
          "output_type": "stream",
          "name": "stdout",
          "text": [
            "<class 'pandas.core.frame.DataFrame'>\n",
            "RangeIndex: 1550 entries, 0 to 1549\n",
            "Data columns (total 13 columns):\n",
            " #   Column                Non-Null Count  Dtype  \n",
            "---  ------                --------------  -----  \n",
            " 0   Year                  1550 non-null   int64  \n",
            " 1   UTM_Zone              1550 non-null   int64  \n",
            " 2   Response              1550 non-null   int64  \n",
            " 3   GaugeDist_m           1550 non-null   float64\n",
            " 4   StormDur_H            1550 non-null   float64\n",
            " 5   StormAccum_mm         1550 non-null   float64\n",
            " 6   StormAvgI_mm/h        1550 non-null   float64\n",
            " 7   Peak_I15_mm/h         1550 non-null   float64\n",
            " 8   ContributingArea_km2  1550 non-null   float64\n",
            " 9   PropHM23              1550 non-null   float64\n",
            " 10  dNBR/1000             1550 non-null   float64\n",
            " 11  KF                    1550 non-null   float64\n",
            " 12  Acc015_mm             1550 non-null   float64\n",
            "dtypes: float64(10), int64(3)\n",
            "memory usage: 157.5 KB\n"
          ]
        }
      ]
    },
    {
      "cell_type": "code",
      "execution_count": null,
      "metadata": {
        "id": "V4vN4GUQ1S_S"
      },
      "outputs": [],
      "source": [
        "X = clime.drop('Response',axis=1).copy()\n",
        "y = clime['Response'].copy()"
      ]
    },
    {
      "cell_type": "markdown",
      "metadata": {
        "id": "kJ3lwI3L4nyw"
      },
      "source": [
        "## EDA"
      ]
    },
    {
      "cell_type": "markdown",
      "source": [
        "### Correlation matrix plot"
      ],
      "metadata": {
        "id": "rnKoonr4wmzj"
      }
    },
    {
      "cell_type": "code",
      "execution_count": null,
      "metadata": {
        "id": "4iVJP0ly4ohu",
        "colab": {
          "base_uri": "https://localhost:8080/",
          "height": 978
        },
        "outputId": "0b39ba30-105e-40fb-c399-5bab112a45bc",
        "collapsed": true
      },
      "outputs": [
        {
          "output_type": "display_data",
          "data": {
            "text/plain": [
              "<Figure size 1000x1000 with 2 Axes>"
            ],
            "image/png": "[encoded data removed]"
          },
          "metadata": {}
        }
      ],
      "source": [
        "# Checking correlations between predictors\n",
        "plt.figure(figsize=(10,10))\n",
        "correlation_matrix = X.corr().round(2)\n",
        "sns.heatmap(data=correlation_matrix, annot=False)\n",
        "plt.show()\n"
      ]
    },
    {
      "cell_type": "markdown",
      "source": [
        "### Feature distributions"
      ],
      "metadata": {
        "id": "wcBzibgdwqMT"
      }
    },
    {
      "cell_type": "code",
      "execution_count": null,
      "metadata": {
        "id": "8aCu65We50_Z",
        "colab": {
          "base_uri": "https://localhost:8080/",
          "height": 393
        },
        "outputId": "6ecc17f8-3270-4560-98b5-e3a7989757f1"
      },
      "outputs": [
        {
          "output_type": "display_data",
          "data": {
            "text/plain": [
              "<Figure size 2200x400 with 4 Axes>"
            ],
            "image/png": "[encoded data removed]"
          },
          "metadata": {}
        }
      ],
      "source": [
        "# Look at the distribution of a few predictors for different labels\n",
        "predictors = ['dNBR/1000', 'PropHM23', 'StormAccum_mm', 'StormAvgI_mm/h']\n",
        "\n",
        "fig, axes = plt.subplots(1,4, figsize= (22,4))\n",
        "for i,pred in enumerate(predictors):\n",
        "  sns.kdeplot(pima[pred][y==1], label = 'Yes', ax = axes[i])\n",
        "  sns.kdeplot(pima[pred][y==0], label = 'No', ax = axes[i])\n",
        "  axes[i].legend()\n",
        "plt.show()\n"
      ]
    },
    {
      "cell_type": "markdown",
      "metadata": {
        "id": "ynxVDheX4d1S"
      },
      "source": [
        "## Fit Logistic Model"
      ]
    },
    {
      "cell_type": "code",
      "source": [
        "from sklearn.preprocessing import StandardScaler"
      ],
      "metadata": {
        "id": "DrjnLuXf62NU"
      },
      "execution_count": null,
      "outputs": []
    },
    {
      "cell_type": "markdown",
      "source": [
        "### Cross validation"
      ],
      "metadata": {
        "id": "4cUiJdQPxQcy"
      }
    },
    {
      "cell_type": "code",
      "source": [
        "numLoops = 100\n",
        "predict_accuracy = np.zeros(numLoops)\n",
        "predict_f1 = np.zeros(numLoops)\n",
        "\n",
        "for idx in range(numLoops):\n",
        "  # Train/test split\n",
        "  X_train, X_test, y_train, y_test = model_selection.train_test_split( X, y, test_size=0.2 )\n",
        "\n",
        "  # Create a new scaler for each iteration\n",
        "  scaler = StandardScaler()\n",
        "  X_train_scaled = scaler.fit_transform(X_train)\n",
        "  X_test_scaled = scaler.transform(X_test)\n",
        "\n",
        "  # Create model\n",
        "  logreg = LogisticRegression( max_iter=20000 )\n",
        "\n",
        "  # Fit ( train ) model\n",
        "  logreg.fit(X_train_scaled, y_train)\n",
        "\n",
        "  # Predict\n",
        "  y_pred = logreg.predict( X_test_scaled )\n",
        "\n",
        "  # Calculate and record performance metrics\n",
        "  predict_accuracy[idx] = metrics.accuracy_score(y_test,y_pred)\n",
        "  predict_f1[idx] = metrics.f1_score(y_test,y_pred)\n",
        "\n",
        "print(f\"Mean Accuracy: {predict_accuracy.mean()*100:.1f}%\")\n",
        "print(f\"F1 Score: {predict_f1.mean()*100:.1f}%\")"
      ],
      "metadata": {
        "colab": {
          "base_uri": "https://localhost:8080/"
        },
        "id": "0acx0sT-95B1",
        "outputId": "37969f1e-dad1-48b1-bd91-300826e65d11"
      },
      "execution_count": null,
      "outputs": [
        {
          "output_type": "stream",
          "name": "stdout",
          "text": [
            "Mean Accuracy: 83.5%\n",
            "F1 Score: 51.0%\n"
          ]
        }
      ]
    },
    {
      "cell_type": "markdown",
      "source": [
        "### Confusion matrix"
      ],
      "metadata": {
        "id": "tUtsKRscxDWM"
      }
    },
    {
      "cell_type": "code",
      "execution_count": null,
      "metadata": {
        "id": "XOCUHecctjHP",
        "colab": {
          "base_uri": "https://localhost:8080/",
          "height": 467
        },
        "outputId": "52393096-5150-4a2e-95b1-29005ecb9384"
      },
      "outputs": [
        {
          "output_type": "display_data",
          "data": {
            "text/plain": [
              "<Figure size 800x800 with 0 Axes>"
            ]
          },
          "metadata": {}
        },
        {
          "output_type": "display_data",
          "data": {
            "text/plain": [
              "<Figure size 640x480 with 2 Axes>"
            ],
            "image/png": "[encoded data removed]"
          },
          "metadata": {}
        }
      ],
      "source": [
        "# Let's look at the confusion matrix\n",
        "cm = confusion_matrix(y_test, y_pred)\n",
        "plt.figure(figsize=(8,8))\n",
        "disp = ConfusionMatrixDisplay(confusion_matrix=cm)\n",
        "disp.plot()\n",
        "plt.show()"
      ]
    },
    {
      "cell_type": "markdown",
      "metadata": {
        "id": "2uewctONuBeB"
      },
      "source": [
        "We are often predicting that someone does not have diabetes even if they do. What can we do to combat this?"
      ]
    },
    {
      "cell_type": "markdown",
      "source": [
        "### Balance classes"
      ],
      "metadata": {
        "id": "T49vENt7xfsN"
      }
    },
    {
      "cell_type": "code",
      "execution_count": null,
      "metadata": {
        "id": "NkrgWL3IuGyM"
      },
      "outputs": [],
      "source": [
        "# Let's balance our classes\n",
        "clime_balanced = clime.groupby('Response').sample(n = 334, replace = False)"
      ]
    },
    {
      "cell_type": "code",
      "execution_count": null,
      "metadata": {
        "id": "es3zPMQNuV70",
        "colab": {
          "base_uri": "https://localhost:8080/",
          "height": 178
        },
        "outputId": "54baf605-07fd-4469-f106-e161b16d76de"
      },
      "outputs": [
        {
          "output_type": "execute_result",
          "data": {
            "text/plain": [
              "Response\n",
              "0    334\n",
              "1    334\n",
              "Name: count, dtype: int64"
            ],
            "text/html": [
              "<div>\n",
              "<style scoped>\n",
              "    .dataframe tbody tr th:only-of-type {\n",
              "        vertical-align: middle;\n",
              "    }\n",
              "\n",
              "    .dataframe tbody tr th {\n",
              "        vertical-align: top;\n",
              "    }\n",
              "\n",
              "    .dataframe thead th {\n",
              "        text-align: right;\n",
              "    }\n",
              "</style>\n",
              "<table border=\"1\" class=\"dataframe\">\n",
              "  <thead>\n",
              "    <tr style=\"text-align: right;\">\n",
              "      <th></th>\n",
              "      <th>count</th>\n",
              "    </tr>\n",
              "    <tr>\n",
              "      <th>Response</th>\n",
              "      <th></th>\n",
              "    </tr>\n",
              "  </thead>\n",
              "  <tbody>\n",
              "    <tr>\n",
              "      <th>0</th>\n",
              "      <td>334</td>\n",
              "    </tr>\n",
              "    <tr>\n",
              "      <th>1</th>\n",
              "      <td>334</td>\n",
              "    </tr>\n",
              "  </tbody>\n",
              "</table>\n",
              "</div><br><label><b>dtype:</b> int64</label>"
            ]
          },
          "metadata": {},
          "execution_count": 27
        }
      ],
      "source": [
        "clime_balanced['Response'].value_counts( dropna = False)"
      ]
    },
    {
      "cell_type": "code",
      "execution_count": null,
      "metadata": {
        "id": "fzH089CtuaKP"
      },
      "outputs": [],
      "source": [
        "X = clime_balanced.drop('Response',axis=1).copy()\n",
        "y = clime_balanced['Response'].copy()"
      ]
    },
    {
      "cell_type": "markdown",
      "source": [
        "### Cross validation"
      ],
      "metadata": {
        "id": "DNIEr3_5xzE9"
      }
    },
    {
      "cell_type": "code",
      "execution_count": null,
      "metadata": {
        "id": "TBHcyazhucio",
        "colab": {
          "base_uri": "https://localhost:8080/"
        },
        "outputId": "f84a36eb-f9e3-40ae-c42f-e99283034b9c"
      },
      "outputs": [
        {
          "output_type": "stream",
          "name": "stdout",
          "text": [
            "Mean Accuracy: 73.0%\n",
            "F1 Score: 71.6%\n"
          ]
        }
      ],
      "source": [
        "numLoops = 100\n",
        "predict_accuracy = np.zeros(numLoops)\n",
        "predict_f1 = np.zeros(numLoops)\n",
        "\n",
        "for idx in range(numLoops):\n",
        "  # Train/test split\n",
        "  X_train, X_test, y_train, y_test = model_selection.train_test_split( X, y, test_size=0.2 )\n",
        "\n",
        "  # Create a new scaler for each iteration\n",
        "  scaler = StandardScaler()\n",
        "  X_train_scaled = scaler.fit_transform(X_train)\n",
        "  X_test_scaled = scaler.transform(X_test)\n",
        "\n",
        "  # Create model\n",
        "  logreg = LogisticRegression( max_iter=20000 )\n",
        "\n",
        "  # Fit ( train ) model\n",
        "  logreg.fit(X_train_scaled, y_train)\n",
        "\n",
        "  # Predict\n",
        "  y_pred = logreg.predict( X_test_scaled )\n",
        "\n",
        "  # Calculate and record performance metrics\n",
        "  predict_accuracy[idx] = metrics.accuracy_score(y_test,y_pred)\n",
        "  predict_f1[idx] = metrics.f1_score(y_test,y_pred)\n",
        "\n",
        "print(f\"Mean Accuracy: {predict_accuracy.mean()*100:.1f}%\")\n",
        "print(f\"F1 Score: {predict_f1.mean()*100:.1f}%\")"
      ]
    },
    {
      "cell_type": "markdown",
      "source": [
        "### Confusion matrix"
      ],
      "metadata": {
        "id": "rSYBmqMNx1le"
      }
    },
    {
      "cell_type": "markdown",
      "source": [
        "Let's look at the confusion matrix using the last validation run\n"
      ],
      "metadata": {
        "id": "zs8ca7cm6cOE"
      }
    },
    {
      "cell_type": "code",
      "execution_count": null,
      "metadata": {
        "id": "7_uhA56UueXA",
        "colab": {
          "base_uri": "https://localhost:8080/",
          "height": 472
        },
        "outputId": "60f7b44d-a97b-466c-9edd-4cfb05cbf3a0"
      },
      "outputs": [
        {
          "output_type": "display_data",
          "data": {
            "text/plain": [
              "<Figure size 800x800 with 0 Axes>"
            ]
          },
          "metadata": {}
        },
        {
          "output_type": "display_data",
          "data": {
            "text/plain": [
              "<Figure size 640x480 with 2 Axes>"
            ],
            "image/png": "[encoded data removed]"
          },
          "metadata": {}
        }
      ],
      "source": [
        "cm = confusion_matrix( y_test, y_pred )\n",
        "plt.figure(figsize=(8,8))\n",
        "disp = ConfusionMatrixDisplay( confusion_matrix = cm )\n",
        "disp.plot()\n",
        "plt.show()\n"
      ]
    },
    {
      "cell_type": "markdown",
      "source": [
        "How does it make its classifications?"
      ],
      "metadata": {
        "id": "mgBdLxad6l1F"
      }
    },
    {
      "cell_type": "code",
      "execution_count": null,
      "metadata": {
        "id": "j7qfJZQkvjWP",
        "colab": {
          "base_uri": "https://localhost:8080/"
        },
        "outputId": "abaa752d-51df-4eff-f58a-6be3f3b560cd"
      },
      "outputs": [
        {
          "output_type": "stream",
          "name": "stdout",
          "text": [
            "[62.85695332 68.43629436 63.48772128 30.15153499  7.38749623 25.27148248\n",
            " 44.8198023  42.95832075 26.76282717 86.86058314 62.40651699 95.8439592\n",
            " 39.21703627 97.48195067 52.76290815]\n"
          ]
        }
      ],
      "source": [
        "y_pred_proba = logreg.predict_proba(X_test_scaled)[:,1]\n",
        "print(y_pred_proba[0:15]*100)"
      ]
    },
    {
      "cell_type": "markdown",
      "source": [
        "Pair up preditions with probabilities.  The default threshold is 50%."
      ],
      "metadata": {
        "id": "nVn7cAjI6oY7"
      }
    },
    {
      "cell_type": "code",
      "source": [
        "sorted( zip( y_pred, y_pred_proba[0:15]*100))\n"
      ],
      "metadata": {
        "id": "ixAX-rMc1dCY",
        "colab": {
          "base_uri": "https://localhost:8080/"
        },
        "outputId": "61d0453e-8b9d-4060-ff10-d8290b593f26"
      },
      "execution_count": null,
      "outputs": [
        {
          "output_type": "execute_result",
          "data": {
            "text/plain": [
              "[(0, 7.387496229439828),\n",
              " (0, 25.271482481668322),\n",
              " (0, 26.762827169958207),\n",
              " (0, 30.151534985218802),\n",
              " (0, 39.21703626962233),\n",
              " (0, 42.958320748726706),\n",
              " (0, 44.8198023032794),\n",
              " (1, 52.76290814826942),\n",
              " (1, 62.40651698978405),\n",
              " (1, 62.85695331676947),\n",
              " (1, 63.48772127992696),\n",
              " (1, 68.43629436408649),\n",
              " (1, 86.86058314471876),\n",
              " (1, 95.84395919980014),\n",
              " (1, 97.48195067137698)]"
            ]
          },
          "metadata": {},
          "execution_count": 34
        }
      ]
    },
    {
      "cell_type": "code",
      "source": [],
      "metadata": {
        "id": "nD6ZMV9099P7"
      },
      "execution_count": null,
      "outputs": []
    },
    {
      "cell_type": "markdown",
      "source": [
        "## ROC-AUC\n",
        "\n"
      ],
      "metadata": {
        "id": "FPnkZwmd3SM6"
      }
    },
    {
      "cell_type": "markdown",
      "source": [
        "A receiver operating characteristic ( ROC ) and area under the curve ( AUC ) plot illustrates the performance of a binary classifier model at varying threshold values.  It also enables us to pick an optimal threshold for classification.\n",
        "\n",
        "\n",
        "\n",
        "\n"
      ],
      "metadata": {
        "id": "pP3qkEWE8PTL"
      }
    },
    {
      "cell_type": "markdown",
      "source": [
        "### Compute ROC curve and AUC\n"
      ],
      "metadata": {
        "id": "WOhSlWPw4F1b"
      }
    },
    {
      "cell_type": "code",
      "source": [
        "fpr, tpr, thresholds = roc_curve( y_test, y_pred_proba )\n",
        "roc_auc = auc(fpr, tpr)\n"
      ],
      "metadata": {
        "id": "VryEABWz3VG9"
      },
      "execution_count": null,
      "outputs": []
    },
    {
      "cell_type": "code",
      "source": [
        "len(y_test), len(y_pred_proba)"
      ],
      "metadata": {
        "colab": {
          "base_uri": "https://localhost:8080/"
        },
        "id": "WdAnRiwh9_EC",
        "outputId": "d0209e0d-9479-4404-8419-4f2f753b0067"
      },
      "execution_count": null,
      "outputs": [
        {
          "output_type": "execute_result",
          "data": {
            "text/plain": [
              "(134, 134)"
            ]
          },
          "metadata": {},
          "execution_count": 36
        }
      ]
    },
    {
      "cell_type": "code",
      "source": [
        "y_test.value_counts()"
      ],
      "metadata": {
        "colab": {
          "base_uri": "https://localhost:8080/",
          "height": 178
        },
        "id": "TVZbBa5G-RsT",
        "outputId": "98dcba03-1793-4e5e-baaf-dc04bbebab37"
      },
      "execution_count": null,
      "outputs": [
        {
          "output_type": "execute_result",
          "data": {
            "text/plain": [
              "Response\n",
              "0    77\n",
              "1    57\n",
              "Name: count, dtype: int64"
            ],
            "text/html": [
              "<div>\n",
              "<style scoped>\n",
              "    .dataframe tbody tr th:only-of-type {\n",
              "        vertical-align: middle;\n",
              "    }\n",
              "\n",
              "    .dataframe tbody tr th {\n",
              "        vertical-align: top;\n",
              "    }\n",
              "\n",
              "    .dataframe thead th {\n",
              "        text-align: right;\n",
              "    }\n",
              "</style>\n",
              "<table border=\"1\" class=\"dataframe\">\n",
              "  <thead>\n",
              "    <tr style=\"text-align: right;\">\n",
              "      <th></th>\n",
              "      <th>count</th>\n",
              "    </tr>\n",
              "    <tr>\n",
              "      <th>Response</th>\n",
              "      <th></th>\n",
              "    </tr>\n",
              "  </thead>\n",
              "  <tbody>\n",
              "    <tr>\n",
              "      <th>0</th>\n",
              "      <td>77</td>\n",
              "    </tr>\n",
              "    <tr>\n",
              "      <th>1</th>\n",
              "      <td>57</td>\n",
              "    </tr>\n",
              "  </tbody>\n",
              "</table>\n",
              "</div><br><label><b>dtype:</b> int64</label>"
            ]
          },
          "metadata": {},
          "execution_count": 105
        }
      ]
    },
    {
      "cell_type": "code",
      "source": [
        "roc_auc"
      ],
      "metadata": {
        "id": "h11p-BbR3klp",
        "colab": {
          "base_uri": "https://localhost:8080/"
        },
        "outputId": "662dc52f-e832-416f-e4d8-a494e4ca9952"
      },
      "execution_count": null,
      "outputs": [
        {
          "output_type": "execute_result",
          "data": {
            "text/plain": [
              "0.7812429378531074"
            ]
          },
          "metadata": {},
          "execution_count": 38
        }
      ]
    },
    {
      "cell_type": "markdown",
      "source": [
        "### Plot ROC curve\n"
      ],
      "metadata": {
        "id": "g2wU9or64Jrq"
      }
    },
    {
      "cell_type": "code",
      "source": [
        "plt.figure()\n",
        "plt.plot(\n",
        "  fpr,\n",
        "  tpr,\n",
        "  color = 'blue',\n",
        "  label = f'ROC curve (area = {roc_auc:.2f})',\n",
        ")\n",
        "plt.plot(\n",
        "  [0, 1],\n",
        "  [0, 1],\n",
        "  color='red',\n",
        "  linestyle='--',\n",
        ")\n",
        "plt.xlabel('False Positive Rate')\n",
        "plt.ylabel('True Positive Rate')\n",
        "plt.title('Receiver Operating Characteristic')\n",
        "plt.legend(loc='lower right')\n",
        "plt.show()\n"
      ],
      "metadata": {
        "id": "PWn9NUuJ3ib3",
        "colab": {
          "base_uri": "https://localhost:8080/",
          "height": 472
        },
        "outputId": "37b7fde1-7ed1-4785-d469-5b248e547547"
      },
      "execution_count": null,
      "outputs": [
        {
          "output_type": "display_data",
          "data": {
            "text/plain": [
              "<Figure size 640x480 with 1 Axes>"
            ],
            "image/png": "[encoded data removed]"
          },
          "metadata": {}
        }
      ]
    },
    {
      "cell_type": "code",
      "source": [],
      "metadata": {
        "id": "pKZGn-FX9dYi"
      },
      "execution_count": null,
      "outputs": []
    },
    {
      "cell_type": "code",
      "source": [
        "# Find the optimal threshold\n",
        "optimal_idx = np.argmax(tpr - fpr)  # Point closest to top-left corner\n",
        "optimal_threshold = thresholds[optimal_idx]\n",
        "\n",
        "print(f'Optimal threshold: {optimal_threshold}')\n"
      ],
      "metadata": {
        "id": "VO12Dm1I4uub",
        "colab": {
          "base_uri": "https://localhost:8080/"
        },
        "outputId": "0cc7711c-5c1d-4c7c-9954-2584a3307890"
      },
      "execution_count": null,
      "outputs": [
        {
          "output_type": "stream",
          "name": "stdout",
          "text": [
            "Optimal threshold: 0.3874404705003525\n"
          ]
        }
      ]
    },
    {
      "cell_type": "markdown",
      "source": [
        "### Calculate predictions usin ROC-AUC threshold\n"
      ],
      "metadata": {
        "id": "kiFAWQJe4-Kj"
      }
    },
    {
      "cell_type": "code",
      "source": [
        "y_pred = ( y_pred_proba >= optimal_threshold ).astype(int)\n",
        "# y_pred = ( y_pred_proba >= .4 ).astype(int)\n",
        "\n",
        "y_pred"
      ],
      "metadata": {
        "id": "5NQ0klKl5KMg",
        "colab": {
          "base_uri": "https://localhost:8080/"
        },
        "outputId": "4c9f86a2-9da5-4d0b-c5b9-561fe1a4214c"
      },
      "execution_count": null,
      "outputs": [
        {
          "output_type": "execute_result",
          "data": {
            "text/plain": [
              "array([1, 1, 1, 0, 0, 0, 1, 1, 0, 1, 1, 1, 1, 1, 1, 1, 1, 0, 1, 1, 0, 1,\n",
              "       1, 1, 1, 1, 0, 1, 1, 1, 1, 1, 0, 1, 1, 1, 0, 0, 0, 1, 0, 0, 0, 1,\n",
              "       0, 1, 1, 1, 0, 1, 0, 1, 1, 0, 1, 0, 1, 0, 1, 1, 0, 0, 0, 1, 1, 1,\n",
              "       1, 1, 1, 0, 1, 1, 0, 0, 1, 0, 1, 1, 0, 0, 0, 1, 1, 1, 0, 1, 0, 1,\n",
              "       1, 1, 0, 1, 0, 0, 0, 0, 0, 0, 0, 0, 0, 1, 0, 0, 1, 1, 0, 0, 1, 1,\n",
              "       1, 0, 1, 0, 1, 1, 1, 1, 1, 0, 1, 1, 0, 1, 0, 1, 0, 0, 1, 0, 1, 0,\n",
              "       1, 1])"
            ]
          },
          "metadata": {},
          "execution_count": 42
        }
      ]
    },
    {
      "cell_type": "markdown",
      "source": [
        "### Confusion matrix"
      ],
      "metadata": {
        "id": "7Ot5xJPh48Hw"
      }
    },
    {
      "cell_type": "code",
      "execution_count": null,
      "metadata": {
        "id": "5A_cObyP48Hy",
        "colab": {
          "base_uri": "https://localhost:8080/",
          "height": 472
        },
        "outputId": "3eb4219b-a6c7-4f23-846e-3746200ccdf4"
      },
      "outputs": [
        {
          "output_type": "display_data",
          "data": {
            "text/plain": [
              "<Figure size 800x800 with 0 Axes>"
            ]
          },
          "metadata": {}
        },
        {
          "output_type": "display_data",
          "data": {
            "text/plain": [
              "<Figure size 640x480 with 2 Axes>"
            ],
            "image/png": "[encoded data removed]"
          },
          "metadata": {}
        }
      ],
      "source": [
        "# Let's look at the confusion matrix\n",
        "cm = confusion_matrix( y_test, y_pred )\n",
        "plt.figure(figsize=(8,8))\n",
        "disp = ConfusionMatrixDisplay( confusion_matrix = cm )\n",
        "disp.plot()\n",
        "plt.show()\n"
      ]
    },
    {
      "cell_type": "markdown",
      "source": [
        "### Calculate performance metrics"
      ],
      "metadata": {
        "id": "1f3V3dTm5yp-"
      }
    },
    {
      "cell_type": "code",
      "source": [
        "predict_accuracy = metrics.accuracy_score( y_test, y_pred )\n",
        "predict_f1 = metrics.f1_score( y_test, y_pred )\n",
        "\n",
        "print(f\"Mean Accuracy: {predict_accuracy*100:.1f}%\")\n",
        "print(f\"F1 Score: {predict_f1*100:.1f}%\")"
      ],
      "metadata": {
        "id": "aq7K26og5vW9",
        "colab": {
          "base_uri": "https://localhost:8080/"
        },
        "outputId": "6d4b7cf5-f353-4042-af49-6237f8941871"
      },
      "execution_count": null,
      "outputs": [
        {
          "output_type": "stream",
          "name": "stdout",
          "text": [
            "Mean Accuracy: 74.6%\n",
            "F1 Score: 77.9%\n"
          ]
        }
      ]
    },
    {
      "cell_type": "markdown",
      "source": [
        "## References\n",
        "\n",
        "- [ROC-AUC]( https://en.wikipedia.org/wiki/Receiver_operating_characteristic )"
      ],
      "metadata": {
        "id": "X41E1oFe81BC"
      }
    },
    {
      "cell_type": "code",
      "source": [],
      "metadata": {
        "id": "CkQGVmjz9cyC"
      },
      "execution_count": null,
      "outputs": []
    }
  ],
  "metadata": {
    "colab": {
      "provenance": [],
      "include_colab_link": true
    },
    "kernelspec": {
      "display_name": "Python 3",
      "name": "python3"
    }
  },
  "nbformat": 4,
  "nbformat_minor": 0
}